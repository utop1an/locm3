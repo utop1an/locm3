{
 "cells": [
  {
   "cell_type": "code",
   "execution_count": 1,
   "id": "0aa7c017",
   "metadata": {},
   "outputs": [],
   "source": [
    "import sys\n",
    "import os\n",
    "sys.path.append(os.path.abspath(os.path.join(os.getcwd(), '..')))\n",
    "from extract import POLOCM2BASELINE, POLOCMBASELINE\n",
    "from utils import read_plan\n",
    "from evaluator import ExecutabilityEvaluator"
   ]
  },
  {
   "cell_type": "code",
   "execution_count": 2,
   "id": "a932fa85",
   "metadata": {},
   "outputs": [],
   "source": []
  },
  {
   "cell_type": "code",
   "execution_count": 2,
   "id": "54776614",
   "metadata": {},
   "outputs": [],
   "source": [
    "def test_acceptance_p2b(domain_name,train_traces, test_traces):\n",
    "    debug = {}\n",
    "    try:\n",
    "        p2b = POLOCM2BASELINE(state_param=True, viz=False, debug=debug)\n",
    "        model,_,_ = p2b.extract_model(train_traces)\n",
    "        learned_domain = model.to_pddl_domain(domain_name)\n",
    "\n",
    "        evaluator = ExecutabilityEvaluator(learned_domain, debug=False)\n",
    "        valid_res = []\n",
    "        invalid_res = []\n",
    "        for trace in test_traces:\n",
    "            valid_acceptance, invalid_acceptance = evaluator.get_acceptance_rate(trace, trace)\n",
    "            valid_res.append(valid_acceptance)\n",
    "            invalid_res.append(invalid_acceptance)\n",
    "        if len(valid_res) == 0:\n",
    "            valid = 0\n",
    "        else:\n",
    "            valid = sum(valid_res) / len(valid_res)\n",
    "        if len(invalid_res) == 0:\n",
    "            invalid = 0\n",
    "        else:\n",
    "            invalid = sum(invalid_res) / len(invalid_res)\n",
    "        return valid, invalid\n",
    "    except Exception as e:\n",
    "        print(f\"Error processing domain {domain_name}: {e}\")\n",
    "        return 0,1\n",
    "    \n",
    "def test_acceptance_pb(domain_name,train_traces, test_traces):\n",
    "    debug = {}\n",
    "    try:\n",
    "        pb = POLOCMBASELINE(state_param=True, viz=False, debug=debug)\n",
    "        model,_,_ = pb.extract_model(train_traces)\n",
    "        learned_domain = model.to_pddl_domain(domain_name)\n",
    "\n",
    "        evaluator = ExecutabilityEvaluator(learned_domain, debug=False)\n",
    "        valid_res = []\n",
    "        invalid_res = []\n",
    "        for trace in test_traces:\n",
    "            valid_acceptance, invalid_acceptance = evaluator.get_acceptance_rate(trace, trace)\n",
    "            valid_res.append(valid_acceptance)\n",
    "            invalid_res.append(invalid_acceptance)\n",
    "        if len(valid_res) == 0:\n",
    "            valid = 0\n",
    "        else:\n",
    "            valid = sum(valid_res) / len(valid_res)\n",
    "        if len(invalid_res) == 0:\n",
    "            invalid = 0\n",
    "        else:\n",
    "            invalid = sum(invalid_res) / len(invalid_res)\n",
    "        return valid, invalid\n",
    "    except Exception as e:\n",
    "        print(f\"Error processing domain {domain_name}: {e}\")\n",
    "        return 0,1"
   ]
  },
  {
   "cell_type": "code",
   "execution_count": 3,
   "id": "247dd027",
   "metadata": {},
   "outputs": [
    {
     "data": {
      "text/plain": [
       "(1.0, 0.25)"
      ]
     },
     "execution_count": 3,
     "metadata": {},
     "output_type": "execute_result"
    }
   ],
   "source": [
    "test_plan = \"(pickup b2?object),(stack b2?object b1?object),(pickup b3?object),(stack b3?object b2?object)\"\n",
    "test_trace = read_plan(test_plan)\n",
    "po_trace = test_trace.to_partial_ordered_trace(0.9)\n",
    "\n",
    "test_plan2 = \"(pickup b2?object),(stack b2?object b1?object),(unstack b3?object b4?object),(putdown b3?object)\"\n",
    "test_trace2 = read_plan(test_plan2)\n",
    "po_trace2 = test_trace2.to_partial_ordered_trace(0.3)\n",
    "\n",
    "# test_exe(\"plan1\", trace)\n",
    "test_acceptance_p2b(\"p2b\", [po_trace, po_trace2], [test_trace])\n",
    "# plan2 = \"(pickup b2?object),(stack b2?object b1?object),(pickup b3?object),(stack b3?object b2?object)\"\n",
    "# test_exe(\"test_bw\", read_plan(plan2))"
   ]
  },
  {
   "cell_type": "code",
   "execution_count": 4,
   "id": "c6994caf",
   "metadata": {},
   "outputs": [
    {
     "data": {
      "text/plain": [
       "(1.0, 1.0)"
      ]
     },
     "execution_count": 4,
     "metadata": {},
     "output_type": "execute_result"
    }
   ],
   "source": [
    "test_acceptance_pb(\"pb\", [po_trace, po_trace2], [test_trace])"
   ]
  },
  {
   "cell_type": "code",
   "execution_count": 10,
   "id": "656c4251",
   "metadata": {},
   "outputs": [
    {
     "name": "stdout",
     "output_type": "stream",
     "text": [
      "(1.0, 0.5)\n",
      "(1.0, 0.5)\n",
      "(1.0, 0.0)\n",
      "(1.0, 0.0)\n",
      "(1.0, 1.0)\n",
      "(1.0, 1.0)\n",
      "(1.0, 1.0)\n",
      "(1.0, 1.0)\n",
      "(1.0, 0.75)\n",
      "(1.0, 0.75)\n",
      "(1.0, 1.0)\n",
      "(1.0, 1.0)\n",
      "(1.0, 1.0)\n",
      "(1.0, 1.0)\n",
      "(1.0, 1.0)\n",
      "(1.0, 1.0)\n",
      "(1.0, 1.0)\n",
      "(1.0, 1.0)\n",
      "(1.0, 1.0)\n",
      "(1.0, 1.0)\n",
      "(1.0, 1.0)\n",
      "(1.0, 1.0)\n",
      "(1.0, 1.0)\n",
      "(1.0, 1.0)\n",
      "(1.0, 1.0)\n",
      "(1.0, 1.0)\n",
      "(1.0, 1.0)\n",
      "(1.0, 1.0)\n",
      "(1.0, 1.0)\n",
      "(1.0, 1.0)\n",
      "(1.0, 1.0)\n",
      "(1.0, 1.0)\n",
      "(1.0, 1.0)\n",
      "(1.0, 1.0)\n",
      "(1.0, 1.0)\n",
      "(1.0, 1.0)\n",
      "(1.0, 1.0)\n",
      "(1.0, 1.0)\n",
      "(1.0, 1.0)\n",
      "(1.0, 1.0)\n",
      "(1.0, 1.0)\n",
      "(1.0, 1.0)\n",
      "(1.0, 1.0)\n",
      "(1.0, 1.0)\n",
      "(1.0, 1.0)\n",
      "(1.0, 1.0)\n",
      "(1.0, 1.0)\n",
      "(1.0, 1.0)\n",
      "(1.0, 1.0)\n",
      "(1.0, 1.0)\n",
      "(1.0, 1.0)\n",
      "(1.0, 1.0)\n",
      "(1.0, 1.0)\n",
      "(1.0, 1.0)\n",
      "(1.0, 1.0)\n",
      "(1.0, 1.0)\n",
      "(1.0, 1.0)\n",
      "(1.0, 1.0)\n",
      "(1.0, 1.0)\n",
      "(1.0, 1.0)\n"
     ]
    },
    {
     "ename": "KeyboardInterrupt",
     "evalue": "",
     "output_type": "error",
     "traceback": [
      "\u001b[31m---------------------------------------------------------------------------\u001b[39m",
      "\u001b[31mKeyboardInterrupt\u001b[39m                         Traceback (most recent call last)",
      "\u001b[32m~\\AppData\\Local\\Temp\\ipykernel_29548\\2761058328.py\u001b[39m in \u001b[36m?\u001b[39m\u001b[34m()\u001b[39m\n\u001b[32m      6\u001b[39m \n\u001b[32m      7\u001b[39m         plan = details[-\u001b[32m1\u001b[39m]\n\u001b[32m      8\u001b[39m         trace = read_plan(plan)\n\u001b[32m      9\u001b[39m         po_trace = trace.to_partial_ordered_trace(\u001b[32m0.9\u001b[39m)\n\u001b[32m---> \u001b[39m\u001b[32m10\u001b[39m         exe =test_acceptance_pb(name, [po_trace], [trace])\n\u001b[32m     11\u001b[39m         print(exe)\n",
      "\u001b[32m~\\AppData\\Local\\Temp\\ipykernel_29548\\1352898788.py\u001b[39m in \u001b[36m?\u001b[39m\u001b[34m(domain_name, train_traces, test_traces)\u001b[39m\n\u001b[32m     47\u001b[39m             invalid = \u001b[32m0\u001b[39m\n\u001b[32m     48\u001b[39m         \u001b[38;5;28;01melse\u001b[39;00m:\n\u001b[32m     49\u001b[39m             invalid = sum(invalid_res) / len(invalid_res)\n\u001b[32m     50\u001b[39m         \u001b[38;5;28;01mreturn\u001b[39;00m valid, invalid\n\u001b[32m---> \u001b[39m\u001b[32m51\u001b[39m     \u001b[38;5;28;01mexcept\u001b[39;00m Exception \u001b[38;5;28;01mas\u001b[39;00m e:\n\u001b[32m     52\u001b[39m         print(f\"Error processing domain {domain_name}: {e}\")\n\u001b[32m     53\u001b[39m         \u001b[38;5;28;01mreturn\u001b[39;00m \u001b[32m0\u001b[39m,\u001b[32m1\u001b[39m\n",
      "\u001b[32mc:\\anu\\locm3\\src\\extract\\polocm_baseline.py\u001b[39m in \u001b[36m?\u001b[39m\u001b[34m(self, po_trace_list, type_dict)\u001b[39m\n\u001b[32m     16\u001b[39m     \u001b[38;5;28;01mdef\u001b[39;00m extract_model(self, po_trace_list: List[PartialOrderedTrace], type_dict: Dict[str, int] = \u001b[38;5;28;01mNone\u001b[39;00m) -> LearnedModel:\n\u001b[32m     17\u001b[39m         start = time.time()\n\u001b[32m     18\u001b[39m         sorts, sort_to_type_dict = self._get_sorts(po_trace_list, type_dict)\n\u001b[32m---> \u001b[39m\u001b[32m19\u001b[39m         obj_trace_list, TM_list = self.solve_po(po_trace_list, sorts)\n\u001b[32m     20\u001b[39m         po_time = time.time() - start\n\u001b[32m     21\u001b[39m         TS, OS, ap_state_pointers = self.get_TS_OS(obj_trace_list, sorts)\n\u001b[32m     22\u001b[39m         \u001b[38;5;28;01mif\u001b[39;00m self.state_param:\n",
      "\u001b[32mc:\\anu\\locm3\\src\\extract\\po_baseline.py\u001b[39m in \u001b[36m?\u001b[39m\u001b[34m(self, po_trace_list, sorts)\u001b[39m\n\u001b[32m     14\u001b[39m     \u001b[38;5;28;01mdef\u001b[39;00m solve_po(self, po_trace_list, sorts):\n\u001b[32m---> \u001b[39m\u001b[32m15\u001b[39m         obj_PO_matrix_list, obj_PO_trace_list = self.get_PO_matrix(po_trace_list, sorts)\n\u001b[32m     16\u001b[39m         obj_consecutive_transitions_list, obj_traces  = self.baseline_solve_po(obj_PO_matrix_list)\n\u001b[32m     17\u001b[39m         \u001b[38;5;66;03m# obj_traces = self.find_obj_traces(obj_consecutive_transitions_list, obj_PO_trace_list)\u001b[39;00m\n\u001b[32m     18\u001b[39m         TM_list = self.get_learned_TM_list(obj_consecutive_transitions_list, sorts)\n",
      "\u001b[32mc:\\anu\\locm3\\src\\extract\\po_baseline.py\u001b[39m in \u001b[36m?\u001b[39m\u001b[34m(self, PO_trace_list, sorts)\u001b[39m\n\u001b[32m     75\u001b[39m                 \u001b[38;5;28;01mfor\u001b[39;00m row_header, row \u001b[38;5;28;01min\u001b[39;00m obj_trace_PO_matrix.iterrows():\n\u001b[32m     76\u001b[39m                     \u001b[38;5;28;01mfor\u001b[39;00m col_header, val \u001b[38;5;28;01min\u001b[39;00m row.items():\n\u001b[32m     77\u001b[39m                         origin = trace_PO_matrix_list[trace_no].at[row_header.to_indexed_action(),\n\u001b[32m     78\u001b[39m                                                                       col_header.to_indexed_action()]\n\u001b[32m---> \u001b[39m\u001b[32m79\u001b[39m                         obj_trace_PO_matrix.at[row_header, col_header] = origin\n\u001b[32m     80\u001b[39m \n\u001b[32m     81\u001b[39m                 obj_PO_matrices[obj] = obj_trace_PO_matrix\n\u001b[32m     82\u001b[39m \n",
      "\u001b[32mc:\\Users\\Apexmod\\miniforge3\\envs\\llm\\Lib\\site-packages\\pandas\\core\\indexing.py\u001b[39m in \u001b[36m?\u001b[39m\u001b[34m(self, key, value)\u001b[39m\n\u001b[32m   2582\u001b[39m \n\u001b[32m   2583\u001b[39m             self.obj.loc[key] = value\n\u001b[32m   2584\u001b[39m             \u001b[38;5;28;01mreturn\u001b[39;00m\n\u001b[32m   2585\u001b[39m \n\u001b[32m-> \u001b[39m\u001b[32m2586\u001b[39m         \u001b[38;5;28;01mreturn\u001b[39;00m super().__setitem__(key, value)\n",
      "\u001b[32mc:\\Users\\Apexmod\\miniforge3\\envs\\llm\\Lib\\site-packages\\pandas\\core\\indexing.py\u001b[39m in \u001b[36m?\u001b[39m\u001b[34m(self, key, value)\u001b[39m\n\u001b[32m   2538\u001b[39m         key = list(self._convert_key(key))\n\u001b[32m   2539\u001b[39m         \u001b[38;5;28;01mif\u001b[39;00m len(key) != self.ndim:\n\u001b[32m   2540\u001b[39m             \u001b[38;5;28;01mraise\u001b[39;00m ValueError(\u001b[33m\"Not enough indexers for scalar access (setting)!\"\u001b[39m)\n\u001b[32m   2541\u001b[39m \n\u001b[32m-> \u001b[39m\u001b[32m2542\u001b[39m         self.obj._set_value(*key, value=value, takeable=self._takeable)\n",
      "\u001b[32mc:\\Users\\Apexmod\\miniforge3\\envs\\llm\\Lib\\site-packages\\pandas\\core\\frame.py\u001b[39m in \u001b[36m?\u001b[39m\u001b[34m(self, index, col, value, takeable)\u001b[39m\n\u001b[32m   4579\u001b[39m             \u001b[38;5;28;01melse\u001b[39;00m:\n\u001b[32m   4580\u001b[39m                 self.loc[index, col] = value\n\u001b[32m   4581\u001b[39m             self._item_cache.pop(col, \u001b[38;5;28;01mNone\u001b[39;00m)\n\u001b[32m   4582\u001b[39m \n\u001b[32m-> \u001b[39m\u001b[32m4583\u001b[39m         \u001b[38;5;28;01mexcept\u001b[39;00m InvalidIndexError \u001b[38;5;28;01mas\u001b[39;00m ii_err:\n\u001b[32m   4584\u001b[39m             \u001b[38;5;66;03m# GH48729: Seems like you are trying to assign a value to a\u001b[39;00m\n\u001b[32m   4585\u001b[39m             \u001b[38;5;66;03m# row when only scalar options are permitted\u001b[39;00m\n\u001b[32m   4586\u001b[39m             raise InvalidIndexError(\n",
      "\u001b[32mc:\\Users\\Apexmod\\miniforge3\\envs\\llm\\Lib\\site-packages\\pandas\\core\\frame.py\u001b[39m in \u001b[36m?\u001b[39m\u001b[34m(self)\u001b[39m\n\u001b[32m   4628\u001b[39m     \u001b[38;5;28;01mdef\u001b[39;00m _clear_item_cache(self) -> \u001b[38;5;28;01mNone\u001b[39;00m:\n\u001b[32m-> \u001b[39m\u001b[32m4629\u001b[39m         self._item_cache.clear()\n",
      "\u001b[31mKeyboardInterrupt\u001b[39m: "
     ]
    }
   ],
   "source": [
    "with open(\"../../data/plain_traces/plain_traces.txt\", \"r\") as f:\n",
    "    lines = f.readlines()\n",
    "    for line in lines:\n",
    "        details = line.split(\"&&\")\n",
    "        name = f\"{details[0]}-{details[2]}-{details[3]}\"\n",
    "      \n",
    "        plan = details[-1]\n",
    "        trace = read_plan(plan)\n",
    "        po_trace = trace.to_partial_ordered_trace(0.9)\n",
    "        exe =test_acceptance_pb(name, [po_trace], [trace])\n",
    "        print(exe)"
   ]
  },
  {
   "cell_type": "code",
   "execution_count": null,
   "id": "b9c0a9d0",
   "metadata": {},
   "outputs": [],
   "source": []
  },
  {
   "cell_type": "code",
   "execution_count": null,
   "id": "2306529e",
   "metadata": {},
   "outputs": [],
   "source": []
  },
  {
   "cell_type": "code",
   "execution_count": null,
   "id": "bdc5da96",
   "metadata": {},
   "outputs": [],
   "source": []
  }
 ],
 "metadata": {
  "kernelspec": {
   "display_name": "llm",
   "language": "python",
   "name": "python3"
  },
  "language_info": {
   "codemirror_mode": {
    "name": "ipython",
    "version": 3
   },
   "file_extension": ".py",
   "mimetype": "text/x-python",
   "name": "python",
   "nbconvert_exporter": "python",
   "pygments_lexer": "ipython3",
   "version": "3.13.4"
  }
 },
 "nbformat": 4,
 "nbformat_minor": 5
}
