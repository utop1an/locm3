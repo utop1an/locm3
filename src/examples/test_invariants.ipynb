{
 "cells": [
  {
   "cell_type": "code",
   "execution_count": 5,
   "id": "56b00313",
   "metadata": {},
   "outputs": [],
   "source": [
    "import sys\n",
    "import os\n",
    "sys.path.append(os.path.abspath(os.path.join(os.getcwd(), '..')))\n",
    "from pddl_parser.pddl_file import open\n",
    "from translate import pddl_to_sas\n",
    "from translate.normalize import normalize\n",
    "from translate.invariant_finder import find_invariants, get_groups"
   ]
  },
  {
   "cell_type": "code",
   "execution_count": 6,
   "id": "3896d69c",
   "metadata": {},
   "outputs": [],
   "source": [
    "domain =\"../../data/goose-benchmarks/tasks/blocksworld/domain.pddl\"\n",
    "problem = \"../../data/goose-benchmarks/tasks/blocksworld/training/easy/p10.pddl\"\n",
    "\n",
    "task = open(domain, problem)\n",
    "normalize(task)\n",
    "sas_task = pddl_to_sas(task)"
   ]
  },
  {
   "cell_type": "code",
   "execution_count": 7,
   "id": "78bd76dc",
   "metadata": {},
   "outputs": [
    {
     "name": "stdout",
     "output_type": "stream",
     "text": [
      "[]\n"
     ]
    }
   ],
   "source": [
    "print(sas_task.mutexes)"
   ]
  },
  {
   "cell_type": "code",
   "execution_count": 8,
   "id": "cfbe8670",
   "metadata": {},
   "outputs": [
    {
     "name": "stdout",
     "output_type": "stream",
     "text": [
      "Finding invariants...\n",
      "NOTE: not passing in reachable_action_params.\n",
      "This means fewer invariants might be found.\n",
      "{arm-empty , holding  [0]}\n",
      "{on 1 [0], clear 0, holding 0}\n",
      "{on-table 0, on 0 [1], holding 0}\n",
      "Finding fact groups...\n",
      "[Atom holding(b4), Atom on(b4, ?X), Atom on-table(b4)]\n",
      "[Atom clear(b2), Atom holding(b2), Atom on(?X, b2)]\n",
      "[Atom arm-empty(), Atom holding(?X)]\n",
      "[Atom holding(b1), Atom on(b1, ?X), Atom on-table(b1)]\n",
      "[Atom holding(b3), Atom on(b3, ?X), Atom on-table(b3)]\n",
      "[Atom clear(b4), Atom holding(b4), Atom on(?X, b4)]\n",
      "[Atom holding(b2), Atom on(b2, ?X), Atom on-table(b2)]\n",
      "[Atom clear(b3), Atom holding(b3), Atom on(?X, b3)]\n",
      "[Atom clear(b1), Atom holding(b1), Atom on(?X, b1)]\n"
     ]
    }
   ],
   "source": [
    "print(\"Finding invariants...\")\n",
    "print(\"NOTE: not passing in reachable_action_params.\")\n",
    "print(\"This means fewer invariants might be found.\")\n",
    "for invariant in find_invariants(task, None):\n",
    "    print(invariant)\n",
    "print(\"Finding fact groups...\")\n",
    "groups = get_groups(task)\n",
    "for group in groups:\n",
    "    print(\"[%s]\" % \", \".join(map(str, group)))"
   ]
  },
  {
   "cell_type": "code",
   "execution_count": null,
   "id": "469d3052",
   "metadata": {},
   "outputs": [
    {
     "ename": "TypeError",
     "evalue": "open() argument 'mode' must be str, not None",
     "output_type": "error",
     "traceback": [
      "\u001b[1;31m---------------------------------------------------------------------------\u001b[0m",
      "\u001b[1;31mTypeError\u001b[0m                                 Traceback (most recent call last)",
      "Cell \u001b[1;32mIn[2], line 4\u001b[0m\n\u001b[0;32m      1\u001b[0m domain \u001b[38;5;241m=\u001b[39m\u001b[38;5;124m\"\u001b[39m\u001b[38;5;124m../../data/goose-benchmarks/tasks/blocksworld/domain.pddl\u001b[39m\u001b[38;5;124m\"\u001b[39m\n\u001b[0;32m      2\u001b[0m problem \u001b[38;5;241m=\u001b[39m \u001b[38;5;124m\"\u001b[39m\u001b[38;5;124m../../data/goose-benchmarks/tasks/blocksworld/training/easy/p10.pddl\u001b[39m\u001b[38;5;124m\"\u001b[39m\n\u001b[1;32m----> 4\u001b[0m domain_only_task \u001b[38;5;241m=\u001b[39m \u001b[38;5;28;43mopen\u001b[39;49m\u001b[43m(\u001b[49m\u001b[43mdomain\u001b[49m\u001b[43m,\u001b[49m\u001b[43m \u001b[49m\u001b[38;5;28;43;01mNone\u001b[39;49;00m\u001b[43m)\u001b[49m\n\u001b[0;32m      5\u001b[0m normalize(task)\n\u001b[0;32m      6\u001b[0m \u001b[38;5;28mprint\u001b[39m(\u001b[38;5;124m\"\u001b[39m\u001b[38;5;124mFinding invariants...\u001b[39m\u001b[38;5;124m\"\u001b[39m)\n",
      "File \u001b[1;32mc:\\Users\\Apexmod\\miniconda3\\Lib\\site-packages\\IPython\\core\\interactiveshell.py:324\u001b[0m, in \u001b[0;36m_modified_open\u001b[1;34m(file, *args, **kwargs)\u001b[0m\n\u001b[0;32m    317\u001b[0m \u001b[38;5;28;01mif\u001b[39;00m file \u001b[38;5;129;01min\u001b[39;00m {\u001b[38;5;241m0\u001b[39m, \u001b[38;5;241m1\u001b[39m, \u001b[38;5;241m2\u001b[39m}:\n\u001b[0;32m    318\u001b[0m     \u001b[38;5;28;01mraise\u001b[39;00m \u001b[38;5;167;01mValueError\u001b[39;00m(\n\u001b[0;32m    319\u001b[0m         \u001b[38;5;124mf\u001b[39m\u001b[38;5;124m\"\u001b[39m\u001b[38;5;124mIPython won\u001b[39m\u001b[38;5;124m'\u001b[39m\u001b[38;5;124mt let you open fd=\u001b[39m\u001b[38;5;132;01m{\u001b[39;00mfile\u001b[38;5;132;01m}\u001b[39;00m\u001b[38;5;124m by default \u001b[39m\u001b[38;5;124m\"\u001b[39m\n\u001b[0;32m    320\u001b[0m         \u001b[38;5;124m\"\u001b[39m\u001b[38;5;124mas it is likely to crash IPython. If you know what you are doing, \u001b[39m\u001b[38;5;124m\"\u001b[39m\n\u001b[0;32m    321\u001b[0m         \u001b[38;5;124m\"\u001b[39m\u001b[38;5;124myou can use builtins\u001b[39m\u001b[38;5;124m'\u001b[39m\u001b[38;5;124m open.\u001b[39m\u001b[38;5;124m\"\u001b[39m\n\u001b[0;32m    322\u001b[0m     )\n\u001b[1;32m--> 324\u001b[0m \u001b[38;5;28;01mreturn\u001b[39;00m \u001b[43mio_open\u001b[49m\u001b[43m(\u001b[49m\u001b[43mfile\u001b[49m\u001b[43m,\u001b[49m\u001b[43m \u001b[49m\u001b[38;5;241;43m*\u001b[39;49m\u001b[43margs\u001b[49m\u001b[43m,\u001b[49m\u001b[43m \u001b[49m\u001b[38;5;241;43m*\u001b[39;49m\u001b[38;5;241;43m*\u001b[39;49m\u001b[43mkwargs\u001b[49m\u001b[43m)\u001b[49m\n",
      "\u001b[1;31mTypeError\u001b[0m: open() argument 'mode' must be str, not None"
     ]
    }
   ],
   "source": [
    "domain =\"../../data/goose-benchmarks/tasks/blocksworld/domain.pddl\"\n",
    "problem = \"../../data/goose-benchmarks/tasks/blocksworld/training/easy/p10.pddl\"\n",
    "\n",
    "domain_only_task = open(domain)\n",
    "normalize(task)\n",
    "print(\"Finding invariants...\")\n",
    "print(\"NOTE: not passing in reachable_action_params.\")\n",
    "print(\"This means fewer invariants might be found.\")\n",
    "for invariant in find_invariants(task, None):\n",
    "    print(invariant)"
   ]
  },
  {
   "cell_type": "code",
   "execution_count": null,
   "id": "40d88f4b",
   "metadata": {},
   "outputs": [],
   "source": []
  }
 ],
 "metadata": {
  "kernelspec": {
   "display_name": "base",
   "language": "python",
   "name": "python3"
  },
  "language_info": {
   "codemirror_mode": {
    "name": "ipython",
    "version": 3
   },
   "file_extension": ".py",
   "mimetype": "text/x-python",
   "name": "python",
   "nbconvert_exporter": "python",
   "pygments_lexer": "ipython3",
   "version": "3.12.2"
  }
 },
 "nbformat": 4,
 "nbformat_minor": 5
}
