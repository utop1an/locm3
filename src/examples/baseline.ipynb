{
 "cells": [
  {
   "cell_type": "code",
   "execution_count": 7,
   "id": "0aa7c017",
   "metadata": {},
   "outputs": [],
   "source": [
    "import sys\n",
    "import os\n",
    "sys.path.append(os.path.abspath(os.path.join(os.getcwd(), '..')))\n",
    "from extract import POLOCM2BASELINE\n",
    "from utils import read_plan\n",
    "from evaluator import ExecutabilityEvaluator"
   ]
  },
  {
   "cell_type": "code",
   "execution_count": 8,
   "id": "a932fa85",
   "metadata": {},
   "outputs": [],
   "source": [
    "def test_exe(domain_name, trace, test_trace=None):\n",
    "    debug = {\n",
    "        # 'get_transition_sets': True,\n",
    "        # 'extract_holes': True,\n",
    "        # 'find_holes': True,\n",
    "    }\n",
    "    try:\n",
    "        baseline = POLOCM2BASELINE(state_param=True, viz=True, debug=debug)\n",
    "        model = baseline.extract_model([trace])\n",
    "        \n",
    "        actions = model.actions\n",
    "        \n",
    "        pddl_domain = model.to_pddl_domain(\"test_bw\")\n",
    "        evaluator = ExecutabilityEvaluator(pddl_domain, 'overall', debug=True)\n",
    "        if test_trace is not None:\n",
    "            action_trace = [step.action for step in test_trace]\n",
    "            exe = evaluator.get_overall_executability('l', action_trace, set(), set())\n",
    "        else:\n",
    "            action_trace = [step.action for step in trace]\n",
    "            exe = evaluator.get_overall_executability('l', action_trace, set(), set())\n",
    "        if exe < 1:\n",
    "            print(f\"Warning! domain: {domain_name} - executability: {exe}\")\n",
    "        return exe\n",
    "    except Exception as e:\n",
    "        print(f\"Error processing domain {domain_name}: {e}\")\n",
    "        return 0"
   ]
  },
  {
   "cell_type": "code",
   "execution_count": 9,
   "id": "54776614",
   "metadata": {},
   "outputs": [],
   "source": [
    "def test_cross_exe(domain_name, po_trace, to_trace):\n",
    "    debug = {}\n",
    "    try:\n",
    "        baseline = POLOCM2BASELINE(state_param=True, viz=False, debug=debug)\n",
    "        model = baseline.extract_model([po_trace])\n",
    "        learned_domain = model.to_pddl_domain(domain_name)\n",
    "        gt_filename = os.path.join('../../data', 'goose-benchmarks', 'tasks', domain_name, 'domain.pddl')\n",
    "        evaluator = ExecutabilityEvaluator(learned_domain, 'cross',gt_filename, debug=True)\n",
    "        action_trace = [step.action for step in to_trace]\n",
    "        exe = evaluator.get_cross_executabilities(action_trace)\n",
    "        return exe\n",
    "    except Exception as e:\n",
    "        print(f\"Error processing domain {domain_name}: {e}\")\n",
    "        return 0"
   ]
  },
  {
   "cell_type": "code",
   "execution_count": 10,
   "id": "247dd027",
   "metadata": {},
   "outputs": [
    {
     "data": {
      "text/plain": [
       "1.0"
      ]
     },
     "execution_count": 10,
     "metadata": {},
     "output_type": "execute_result"
    }
   ],
   "source": [
    "test_plan = \"(pickup b2?object),(stack b2?object b1?object),(pickup b3?object),(stack b3?object b2?object)\"\n",
    "test_trace = read_plan(test_plan)\n",
    "po_trace = test_trace.to_partial_ordered_trace(0.3)\n",
    "\n",
    "# test_exe(\"plan1\", trace)\n",
    "test_exe(\"plan2\", po_trace)\n",
    "# plan2 = \"(pickup b2?object),(stack b2?object b1?object),(pickup b3?object),(stack b3?object b2?object)\"\n",
    "# test_exe(\"test_bw\", read_plan(plan2))"
   ]
  },
  {
   "cell_type": "code",
   "execution_count": 11,
   "id": "c6994caf",
   "metadata": {},
   "outputs": [
    {
     "name": "stdout",
     "output_type": "stream",
     "text": [
      "action <PropositionalAction '(stack b3 b2)' at 0x298691611f0> not executable\n",
      "preconditions not satisfied:  {<Atom s1f0_state2(b3)>, <Atom s1f0_state0(b2)>, <Atom s1f2_state1(b2)>, <Atom s1f1_state0(b2)>}\n",
      "action <PropositionalAction '(stack b3 b1)' at 0x29869619100> not executable\n",
      "preconditions not satisfied:  {<Atom s1f1_state0(b1)>, <Atom s1f0_state2(b3)>, <Atom s1f0_state0(b1)>, <Atom s1f2_state1(b1)>}\n",
      "action <PropositionalAction '(stack b1 b3)' at 0x298691611f0> not executable\n",
      "preconditions not satisfied:  {<Atom clear(b3)>}\n",
      "action <PropositionalAction '(pickup b1)' at 0x2986957f4d0> not executable\n",
      "preconditions not satisfied:  {<Atom s1f2_state1(b1)>}\n",
      "action <PropositionalAction '(stack b1 b2)' at 0x2986957f4d0> not executable\n",
      "preconditions not satisfied:  {<Atom s1f0_state0(b2)>, <Atom s1f2_state1(b2)>, <Atom s1f1_state0(b2)>}\n",
      "action <PropositionalAction '(stack b1 b3)' at 0x298696196d0> not executable\n",
      "preconditions not satisfied:  {<Atom s1f0_state2(b1)>}\n",
      "action <PropositionalAction '(stack b1 b1)' at 0x2986957f4d0> not executable\n",
      "preconditions not satisfied:  {<Atom s1f1_state0(b1)>, <Atom s1f0_state0(b1)>, <Atom s1f2_state1(b1)>}\n",
      "action <PropositionalAction '(stack b2 b1)' at 0x298691611f0> not executable\n",
      "preconditions not satisfied:  {<Atom s1f1_state0(b1)>, <Atom s1f0_state0(b1)>, <Atom s1f0_state2(b2)>, <Atom s1f2_state1(b1)>}\n",
      "action <PropositionalAction '(pickup b3)' at 0x298696191f0> not executable\n",
      "preconditions not satisfied:  {<Atom s1f1_state2(b3)>}\n",
      "action <PropositionalAction '(pickup b2)' at 0x29869619340> not executable\n",
      "preconditions not satisfied:  {<Atom s1f2_state1(b2)>, <Atom s1f1_state2(b2)>}\n",
      "action <PropositionalAction '(stack b2 b1)' at 0x2986957f4d0> not executable\n",
      "preconditions not satisfied:  {<Atom s1f1_state0(b1)>, <Atom s1f0_state2(b2)>, <Atom s1f2_state1(b1)>}\n",
      "action <PropositionalAction '(pickup b1)' at 0x298691611f0> not executable\n",
      "preconditions not satisfied:  {<Atom s1f2_state1(b1)>}\n",
      "action <PropositionalAction '(stack b1 b2)' at 0x29869618c20> not executable\n",
      "preconditions not satisfied:  {<Atom s1f0_state0(b2)>, <Atom s1f2_state1(b2)>, <Atom s1f1_state0(b2)>}\n",
      "action <PropositionalAction '(stack b2 b3)' at 0x2986957f4d0> not executable\n",
      "preconditions not satisfied:  {<Atom s1f0_state2(b2)>}\n"
     ]
    },
    {
     "data": {
      "text/plain": [
       "(0.1, 0.0)"
      ]
     },
     "execution_count": 11,
     "metadata": {},
     "output_type": "execute_result"
    }
   ],
   "source": [
    "test_plan = \"(pickup b2?object),(stack b2?object b1?object),(pickup b3?object),(stack b3?object b2?object)\"\n",
    "test_trace = read_plan(test_plan)\n",
    "po_trace = test_trace.to_partial_ordered_trace(0.3)\n",
    "\n",
    "\n",
    "test_cross_exe(\"blocksworld\", po_trace, test_trace)"
   ]
  },
  {
   "cell_type": "code",
   "execution_count": 12,
   "id": "656c4251",
   "metadata": {},
   "outputs": [],
   "source": [
    "# with open(\"../../data/plain_traces/plain_traces.txt\", \"r\") as f:\n",
    "#     lines = f.readlines()\n",
    "#     for line in lines:\n",
    "#         details = line.split(\"&&\")\n",
    "#         name = f\"{details[0]}-{details[2]}-{details[3]}\"\n",
    "      \n",
    "#         plan = details[-1]\n",
    "#         trace = read_plan(plan)\n",
    "#         po_trace = trace.to_partial_ordered_trace(0.3)\n",
    "#         test_exe(name, po_trace)"
   ]
  },
  {
   "cell_type": "code",
   "execution_count": null,
   "id": "b9c0a9d0",
   "metadata": {},
   "outputs": [],
   "source": []
  },
  {
   "cell_type": "code",
   "execution_count": null,
   "id": "2306529e",
   "metadata": {},
   "outputs": [],
   "source": []
  },
  {
   "cell_type": "code",
   "execution_count": null,
   "id": "bdc5da96",
   "metadata": {},
   "outputs": [],
   "source": []
  }
 ],
 "metadata": {
  "kernelspec": {
   "display_name": "base",
   "language": "python",
   "name": "python3"
  },
  "language_info": {
   "codemirror_mode": {
    "name": "ipython",
    "version": 3
   },
   "file_extension": ".py",
   "mimetype": "text/x-python",
   "name": "python",
   "nbconvert_exporter": "python",
   "pygments_lexer": "ipython3",
   "version": "3.12.2"
  }
 },
 "nbformat": 4,
 "nbformat_minor": 5
}
