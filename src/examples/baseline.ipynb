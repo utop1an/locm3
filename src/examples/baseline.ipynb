{
 "cells": [
  {
   "cell_type": "code",
   "execution_count": 7,
   "id": "0aa7c017",
   "metadata": {},
   "outputs": [],
   "source": [
    "import sys\n",
    "import os\n",
    "sys.path.append(os.path.abspath(os.path.join(os.getcwd(), '..')))\n",
    "from extract import POLOCM2BASELINE\n",
    "from utils import read_plan\n",
    "from evaluator import ExecutabilityEvaluator"
   ]
  },
  {
   "cell_type": "code",
   "execution_count": 8,
   "id": "a932fa85",
   "metadata": {},
   "outputs": [],
   "source": [
    "def test_exe(domain_name, trace, test_trace=None):\n",
    "    debug = {\n",
    "        # 'get_transition_sets': True,\n",
    "        # 'extract_holes': True,\n",
    "        # 'find_holes': True,\n",
    "    }\n",
    "    try:\n",
    "        baseline = POLOCM2BASELINE(state_param=True, viz=False, debug=debug)\n",
    "        model = baseline.extract_model([trace])\n",
    "        \n",
    "        actions = model.actions\n",
    "        \n",
    "        pddl_domain = model.to_pddl_domain(\"test_bw\")\n",
    "        evaluator = ExecutabilityEvaluator(pddl_domain, 'overall', debug=True)\n",
    "        if test_trace is not None:\n",
    "            action_trace = [step.action for step in test_trace]\n",
    "            exe = evaluator.get_overall_executability('l', action_trace, set(), set())\n",
    "        else:\n",
    "            action_trace = [step.action for step in trace]\n",
    "            exe = evaluator.get_overall_executability('l', action_trace, set(), set())\n",
    "        if exe < 1:\n",
    "            print(f\"Warning! domain: {domain_name} - executability: {exe}\")\n",
    "        return exe\n",
    "    except Exception as e:\n",
    "        print(f\"Error processing domain {domain_name}: {e}\")\n",
    "        return 0"
   ]
  },
  {
   "cell_type": "code",
   "execution_count": 9,
   "id": "54776614",
   "metadata": {},
   "outputs": [],
   "source": [
    "def test_cross_exe(domain_name, po_trace, to_trace):\n",
    "    debug = {}\n",
    "    try:\n",
    "        baseline = POLOCM2BASELINE(state_param=True, viz=False, debug=debug)\n",
    "        model = baseline.extract_model([po_trace])\n",
    "        learned_domain = model.to_pddl_domain(domain_name)\n",
    "        gt_filename = os.path.join('../../data', 'goose-benchmarks', 'tasks', domain_name, 'domain.pddl')\n",
    "        evaluator = ExecutabilityEvaluator(learned_domain, 'cross',gt_filename, debug=False)\n",
    "        action_trace = [step.action for step in to_trace]\n",
    "        exe = evaluator.get_cross_executabilities(action_trace)\n",
    "        return exe\n",
    "    except Exception as e:\n",
    "        print(f\"Error processing domain {domain_name}: {e}\")\n",
    "        return 0"
   ]
  },
  {
   "cell_type": "code",
   "execution_count": 10,
   "id": "247dd027",
   "metadata": {},
   "outputs": [
    {
     "data": {
      "text/plain": [
       "1.0"
      ]
     },
     "execution_count": 10,
     "metadata": {},
     "output_type": "execute_result"
    }
   ],
   "source": [
    "test_plan = \"(pickup b2?object),(stack b2?object b1?object),(pickup b3?object),(stack b3?object b2?object)\"\n",
    "test_trace = read_plan(test_plan)\n",
    "po_trace = test_trace.to_partial_ordered_trace(0.3)\n",
    "\n",
    "# test_exe(\"plan1\", trace)\n",
    "test_exe(\"plan2\", po_trace)\n",
    "# plan2 = \"(pickup b2?object),(stack b2?object b1?object),(pickup b3?object),(stack b3?object b2?object)\"\n",
    "# test_exe(\"test_bw\", read_plan(plan2))"
   ]
  },
  {
   "cell_type": "code",
   "execution_count": 11,
   "id": "c6994caf",
   "metadata": {},
   "outputs": [
    {
     "data": {
      "text/plain": [
       "(0.25, 0.7)"
      ]
     },
     "execution_count": 11,
     "metadata": {},
     "output_type": "execute_result"
    }
   ],
   "source": [
    "test_plan = \"(pickup b2?object),(stack b2?object b1?object),(pickup b3?object),(stack b3?object b2?object)\"\n",
    "test_trace = read_plan(test_plan)\n",
    "po_trace = test_trace.to_partial_ordered_trace(0.3)\n",
    "\n",
    "\n",
    "test_cross_exe(\"blocksworld\", po_trace, test_trace)"
   ]
  },
  {
   "cell_type": "code",
   "execution_count": 12,
   "id": "656c4251",
   "metadata": {},
   "outputs": [
    {
     "name": "stdout",
     "output_type": "stream",
     "text": [
      "Executability for blocksworld-p01.pddl-easy: 0.2, 0.0\n",
      "Executability for blocksworld-p02.pddl-easy: 0.05, 0.0\n",
      "Executability for blocksworld-p03.pddl-easy: 0.35, 0.0\n",
      "Executability for blocksworld-p04.pddl-easy: 0.15, 0.0\n",
      "Executability for blocksworld-p05.pddl-easy: 0.225, 1.0\n",
      "Executability for blocksworld-p06.pddl-easy: 0.125, 0.8\n",
      "Executability for blocksworld-p07.pddl-easy: 0.1875, 0.295\n",
      "Executability for blocksworld-p08.pddl-easy: 0.1875, 0.26666666666666666\n",
      "Executability for blocksworld-p09.pddl-easy: 0.475, 0.0\n",
      "Executability for blocksworld-p10.pddl-easy: 0.45, 0.0\n",
      "Executability for blocksworld-p11.pddl-easy: 0.39, 0.35\n",
      "Executability for blocksworld-p12.pddl-easy: 0.12999999999999998, 0.5\n",
      "Executability for blocksworld-p13.pddl-easy: 0.24166666666666664, 0.4416666666666666\n",
      "Executability for blocksworld-p14.pddl-easy: 0.2916666666666667, 0.39047619047619053\n",
      "Executability for blocksworld-p15.pddl-easy: 0.1333333333333333, 0.33999999999999997\n",
      "Executability for blocksworld-p16.pddl-easy: 0.30625, 0.4\n",
      "Executability for blocksworld-p17.pddl-easy: 0.08571428571428572, 0.479978354978355\n",
      "Executability for blocksworld-p18.pddl-easy: 0.3, 0.40747474747474743\n"
     ]
    },
    {
     "ename": "KeyboardInterrupt",
     "evalue": "",
     "output_type": "error",
     "traceback": [
      "\u001b[1;31m---------------------------------------------------------------------------\u001b[0m",
      "\u001b[1;31mKeyboardInterrupt\u001b[0m                         Traceback (most recent call last)",
      "Cell \u001b[1;32mIn[12], line 15\u001b[0m\n\u001b[0;32m     11\u001b[0m     po_trace \u001b[38;5;241m=\u001b[39m trace\u001b[38;5;241m.\u001b[39mto_partial_ordered_trace(\u001b[38;5;241m0.3\u001b[39m)\n\u001b[0;32m     13\u001b[0m     domain_name \u001b[38;5;241m=\u001b[39m details[\u001b[38;5;241m0\u001b[39m]\n\u001b[1;32m---> 15\u001b[0m     exe_l, exe_gt \u001b[38;5;241m=\u001b[39m \u001b[43mtest_cross_exe\u001b[49m\u001b[43m(\u001b[49m\u001b[43mdomain_name\u001b[49m\u001b[43m,\u001b[49m\u001b[43m \u001b[49m\u001b[43mpo_trace\u001b[49m\u001b[43m,\u001b[49m\u001b[43m \u001b[49m\u001b[43mtrace\u001b[49m\u001b[43m)\u001b[49m\n\u001b[0;32m     16\u001b[0m \u001b[38;5;28;01mexcept\u001b[39;00m \u001b[38;5;167;01mException\u001b[39;00m \u001b[38;5;28;01mas\u001b[39;00m e:\n\u001b[0;32m     17\u001b[0m     \u001b[38;5;28mprint\u001b[39m(\u001b[38;5;124mf\u001b[39m\u001b[38;5;124m\"\u001b[39m\u001b[38;5;124mError processing task \u001b[39m\u001b[38;5;132;01m{\u001b[39;00mname\u001b[38;5;132;01m}\u001b[39;00m\u001b[38;5;124m: \u001b[39m\u001b[38;5;132;01m{\u001b[39;00me\u001b[38;5;132;01m}\u001b[39;00m\u001b[38;5;124m\"\u001b[39m)\n",
      "Cell \u001b[1;32mIn[9], line 5\u001b[0m, in \u001b[0;36mtest_cross_exe\u001b[1;34m(domain_name, po_trace, to_trace)\u001b[0m\n\u001b[0;32m      3\u001b[0m \u001b[38;5;28;01mtry\u001b[39;00m:\n\u001b[0;32m      4\u001b[0m     baseline \u001b[38;5;241m=\u001b[39m POLOCM2BASELINE(state_param\u001b[38;5;241m=\u001b[39m\u001b[38;5;28;01mTrue\u001b[39;00m, viz\u001b[38;5;241m=\u001b[39m\u001b[38;5;28;01mFalse\u001b[39;00m, debug\u001b[38;5;241m=\u001b[39mdebug)\n\u001b[1;32m----> 5\u001b[0m     model \u001b[38;5;241m=\u001b[39m \u001b[43mbaseline\u001b[49m\u001b[38;5;241;43m.\u001b[39;49m\u001b[43mextract_model\u001b[49m\u001b[43m(\u001b[49m\u001b[43m[\u001b[49m\u001b[43mpo_trace\u001b[49m\u001b[43m]\u001b[49m\u001b[43m)\u001b[49m\n\u001b[0;32m      6\u001b[0m     learned_domain \u001b[38;5;241m=\u001b[39m model\u001b[38;5;241m.\u001b[39mto_pddl_domain(domain_name)\n\u001b[0;32m      7\u001b[0m     gt_filename \u001b[38;5;241m=\u001b[39m os\u001b[38;5;241m.\u001b[39mpath\u001b[38;5;241m.\u001b[39mjoin(\u001b[38;5;124m'\u001b[39m\u001b[38;5;124m../../data\u001b[39m\u001b[38;5;124m'\u001b[39m, \u001b[38;5;124m'\u001b[39m\u001b[38;5;124mgoose-benchmarks\u001b[39m\u001b[38;5;124m'\u001b[39m, \u001b[38;5;124m'\u001b[39m\u001b[38;5;124mtasks\u001b[39m\u001b[38;5;124m'\u001b[39m, domain_name, \u001b[38;5;124m'\u001b[39m\u001b[38;5;124mdomain.pddl\u001b[39m\u001b[38;5;124m'\u001b[39m)\n",
      "File \u001b[1;32mc:\\anu\\locm3\\src\\extract\\polocm2_baseline.py:22\u001b[0m, in \u001b[0;36mPOLOCM2BASELINE.extract_model\u001b[1;34m(self, po_trace_list, type_dict)\u001b[0m\n\u001b[0;32m     20\u001b[0m \u001b[38;5;28;01mdef\u001b[39;00m \u001b[38;5;21mextract_model\u001b[39m(\u001b[38;5;28mself\u001b[39m, po_trace_list: List[PartialOrderedTrace], type_dict: Dict[\u001b[38;5;28mstr\u001b[39m, \u001b[38;5;28mint\u001b[39m] \u001b[38;5;241m=\u001b[39m \u001b[38;5;28;01mNone\u001b[39;00m) \u001b[38;5;241m-\u001b[39m\u001b[38;5;241m>\u001b[39m LearnedModel:\n\u001b[0;32m     21\u001b[0m     sorts, sort_to_type_dict \u001b[38;5;241m=\u001b[39m \u001b[38;5;28mself\u001b[39m\u001b[38;5;241m.\u001b[39m_get_sorts(po_trace_list, type_dict)\n\u001b[1;32m---> 22\u001b[0m     obj_consecutive_transitions_list, TM_list \u001b[38;5;241m=\u001b[39m \u001b[38;5;28;43mself\u001b[39;49m\u001b[38;5;241;43m.\u001b[39;49m\u001b[43msolve_po\u001b[49m\u001b[43m(\u001b[49m\u001b[43mpo_trace_list\u001b[49m\u001b[43m,\u001b[49m\u001b[43m \u001b[49m\u001b[43msorts\u001b[49m\u001b[43m)\u001b[49m\n\u001b[0;32m     23\u001b[0m     transition_sets_per_sort_list \u001b[38;5;241m=\u001b[39m \u001b[38;5;28mself\u001b[39m\u001b[38;5;241m.\u001b[39msplit_transitions(TM_list, obj_consecutive_transitions_list, sorts)\n\u001b[0;32m     24\u001b[0m     TS, OS, event_state_pointers \u001b[38;5;241m=\u001b[39m \u001b[38;5;28mself\u001b[39m\u001b[38;5;241m.\u001b[39mget_TS_OS(obj_consecutive_transitions_list, transition_sets_per_sort_list, TM_list, sorts)\n",
      "File \u001b[1;32mc:\\anu\\locm3\\src\\extract\\polocm2_baseline.py:36\u001b[0m, in \u001b[0;36mPOLOCM2BASELINE.solve_po\u001b[1;34m(self, po_trace_list, sorts)\u001b[0m\n\u001b[0;32m     34\u001b[0m obj_PO_matrix_list, obj_PO_trace_list \u001b[38;5;241m=\u001b[39m \u001b[38;5;28mself\u001b[39m\u001b[38;5;241m.\u001b[39mget_PO_matrix(po_trace_list, sorts)\n\u001b[0;32m     35\u001b[0m obj_consecutive_transitions_list  \u001b[38;5;241m=\u001b[39m \u001b[38;5;28mself\u001b[39m\u001b[38;5;241m.\u001b[39mbaseline_solve_po(obj_PO_matrix_list)\n\u001b[1;32m---> 36\u001b[0m obj_traces \u001b[38;5;241m=\u001b[39m \u001b[38;5;28;43mself\u001b[39;49m\u001b[38;5;241;43m.\u001b[39;49m\u001b[43mfind_obj_traces\u001b[49m\u001b[43m(\u001b[49m\u001b[43mobj_consecutive_transitions_list\u001b[49m\u001b[43m,\u001b[49m\u001b[43m \u001b[49m\u001b[43mobj_PO_trace_list\u001b[49m\u001b[43m)\u001b[49m\n\u001b[0;32m     37\u001b[0m TM_list \u001b[38;5;241m=\u001b[39m \u001b[38;5;28mself\u001b[39m\u001b[38;5;241m.\u001b[39mget_TM_list(obj_consecutive_transitions_list, sorts)\n\u001b[0;32m     38\u001b[0m \u001b[38;5;28;01mreturn\u001b[39;00m obj_traces, TM_list\n",
      "File \u001b[1;32mc:\\anu\\locm3\\src\\extract\\polocm2_baseline.py:178\u001b[0m, in \u001b[0;36mPOLOCM2BASELINE.find_obj_traces\u001b[1;34m(self, obj_consecutive_transitions_list, obj_PO_trace_list)\u001b[0m\n\u001b[0;32m    175\u001b[0m                     possible_traces[obj]\u001b[38;5;241m.\u001b[39mappend(path[:])\n\u001b[0;32m    177\u001b[0m         \u001b[38;5;28;01mfor\u001b[39;00m source \u001b[38;5;129;01min\u001b[39;00m sources:\n\u001b[1;32m--> 178\u001b[0m             \u001b[43mdfs\u001b[49m\u001b[43m(\u001b[49m\u001b[43m[\u001b[49m\u001b[43msource\u001b[49m\u001b[43m]\u001b[49m\u001b[43m,\u001b[49m\u001b[43m \u001b[49m\u001b[43m{\u001b[49m\u001b[43msource\u001b[49m\u001b[43m}\u001b[49m\u001b[43m)\u001b[49m\n\u001b[0;32m    180\u001b[0m \u001b[38;5;28;01mreturn\u001b[39;00m possible_traces\n",
      "File \u001b[1;32mc:\\anu\\locm3\\src\\extract\\polocm2_baseline.py:170\u001b[0m, in \u001b[0;36mPOLOCM2BASELINE.find_obj_traces.<locals>.dfs\u001b[1;34m(path, visited)\u001b[0m\n\u001b[0;32m    168\u001b[0m visited\u001b[38;5;241m.\u001b[39madd(nxt)\n\u001b[0;32m    169\u001b[0m path\u001b[38;5;241m.\u001b[39mappend(nxt)\n\u001b[1;32m--> 170\u001b[0m \u001b[43mdfs\u001b[49m\u001b[43m(\u001b[49m\u001b[43mpath\u001b[49m\u001b[43m,\u001b[49m\u001b[43m \u001b[49m\u001b[43mvisited\u001b[49m\u001b[43m)\u001b[49m\n\u001b[0;32m    171\u001b[0m path\u001b[38;5;241m.\u001b[39mpop()\n\u001b[0;32m    172\u001b[0m visited\u001b[38;5;241m.\u001b[39mremove(nxt)\n",
      "File \u001b[1;32mc:\\anu\\locm3\\src\\extract\\polocm2_baseline.py:170\u001b[0m, in \u001b[0;36mPOLOCM2BASELINE.find_obj_traces.<locals>.dfs\u001b[1;34m(path, visited)\u001b[0m\n\u001b[0;32m    168\u001b[0m visited\u001b[38;5;241m.\u001b[39madd(nxt)\n\u001b[0;32m    169\u001b[0m path\u001b[38;5;241m.\u001b[39mappend(nxt)\n\u001b[1;32m--> 170\u001b[0m \u001b[43mdfs\u001b[49m\u001b[43m(\u001b[49m\u001b[43mpath\u001b[49m\u001b[43m,\u001b[49m\u001b[43m \u001b[49m\u001b[43mvisited\u001b[49m\u001b[43m)\u001b[49m\n\u001b[0;32m    171\u001b[0m path\u001b[38;5;241m.\u001b[39mpop()\n\u001b[0;32m    172\u001b[0m visited\u001b[38;5;241m.\u001b[39mremove(nxt)\n",
      "    \u001b[1;31m[... skipping similar frames: POLOCM2BASELINE.find_obj_traces.<locals>.dfs at line 170 (6 times)]\u001b[0m\n",
      "File \u001b[1;32mc:\\anu\\locm3\\src\\extract\\polocm2_baseline.py:170\u001b[0m, in \u001b[0;36mPOLOCM2BASELINE.find_obj_traces.<locals>.dfs\u001b[1;34m(path, visited)\u001b[0m\n\u001b[0;32m    168\u001b[0m visited\u001b[38;5;241m.\u001b[39madd(nxt)\n\u001b[0;32m    169\u001b[0m path\u001b[38;5;241m.\u001b[39mappend(nxt)\n\u001b[1;32m--> 170\u001b[0m \u001b[43mdfs\u001b[49m\u001b[43m(\u001b[49m\u001b[43mpath\u001b[49m\u001b[43m,\u001b[49m\u001b[43m \u001b[49m\u001b[43mvisited\u001b[49m\u001b[43m)\u001b[49m\n\u001b[0;32m    171\u001b[0m path\u001b[38;5;241m.\u001b[39mpop()\n\u001b[0;32m    172\u001b[0m visited\u001b[38;5;241m.\u001b[39mremove(nxt)\n",
      "File \u001b[1;32mc:\\anu\\locm3\\src\\extract\\polocm2_baseline.py:167\u001b[0m, in \u001b[0;36mPOLOCM2BASELINE.find_obj_traces.<locals>.dfs\u001b[1;34m(path, visited)\u001b[0m\n\u001b[0;32m    165\u001b[0m last \u001b[38;5;241m=\u001b[39m path[\u001b[38;5;241m-\u001b[39m\u001b[38;5;241m1\u001b[39m]\n\u001b[0;32m    166\u001b[0m \u001b[38;5;28;01mfor\u001b[39;00m nxt \u001b[38;5;129;01min\u001b[39;00m graph[last]:\n\u001b[1;32m--> 167\u001b[0m     \u001b[38;5;28;01mif\u001b[39;00m \u001b[43mnxt\u001b[49m\u001b[43m \u001b[49m\u001b[38;5;129;43;01mnot\u001b[39;49;00m\u001b[43m \u001b[49m\u001b[38;5;129;43;01min\u001b[39;49;00m\u001b[43m \u001b[49m\u001b[43mvisited\u001b[49m:\n\u001b[0;32m    168\u001b[0m         visited\u001b[38;5;241m.\u001b[39madd(nxt)\n\u001b[0;32m    169\u001b[0m         path\u001b[38;5;241m.\u001b[39mappend(nxt)\n",
      "File \u001b[1;32mc:\\anu\\locm3\\src\\traces\\event.py:57\u001b[0m, in \u001b[0;36mIndexedEvent.__hash__\u001b[1;34m(self)\u001b[0m\n\u001b[0;32m     54\u001b[0m \u001b[38;5;28;01mdef\u001b[39;00m \u001b[38;5;21m__repr__\u001b[39m(\u001b[38;5;28mself\u001b[39m):\n\u001b[0;32m     55\u001b[0m     \u001b[38;5;28;01mreturn\u001b[39;00m \u001b[38;5;124mf\u001b[39m\u001b[38;5;124m'\u001b[39m\u001b[38;5;124m[\u001b[39m\u001b[38;5;132;01m{\u001b[39;00m\u001b[38;5;28mself\u001b[39m\u001b[38;5;241m.\u001b[39mindex\u001b[38;5;132;01m}\u001b[39;00m\u001b[38;5;124m]\u001b[39m\u001b[38;5;132;01m{\u001b[39;00m\u001b[38;5;28mself\u001b[39m\u001b[38;5;241m.\u001b[39maction\u001b[38;5;241m.\u001b[39mname\u001b[38;5;132;01m}\u001b[39;00m\u001b[38;5;124m.\u001b[39m\u001b[38;5;132;01m{\u001b[39;00m\u001b[38;5;28mself\u001b[39m\u001b[38;5;241m.\u001b[39mpos\u001b[38;5;132;01m}\u001b[39;00m\u001b[38;5;124m'\u001b[39m\n\u001b[1;32m---> 57\u001b[0m \u001b[38;5;28;01mdef\u001b[39;00m \u001b[38;5;21m__hash__\u001b[39m(\u001b[38;5;28mself\u001b[39m):\n\u001b[0;32m     58\u001b[0m     \u001b[38;5;28;01mreturn\u001b[39;00m \u001b[38;5;28mhash\u001b[39m((\u001b[38;5;28mself\u001b[39m\u001b[38;5;241m.\u001b[39maction\u001b[38;5;241m.\u001b[39mname, \u001b[38;5;28mself\u001b[39m\u001b[38;5;241m.\u001b[39mindex, \u001b[38;5;28mself\u001b[39m\u001b[38;5;241m.\u001b[39mpos))    \n\u001b[0;32m     60\u001b[0m \u001b[38;5;28;01mdef\u001b[39;00m \u001b[38;5;21m__eq__\u001b[39m(\u001b[38;5;28mself\u001b[39m, other):\n",
      "\u001b[1;31mKeyboardInterrupt\u001b[0m: "
     ]
    }
   ],
   "source": [
    "with open(\"../../data/plain_traces/plain_traces.txt\", \"r\") as f:\n",
    "    with open(\"res.csv\", \"w\") as out:\n",
    "        lines = f.readlines()\n",
    "        for line in lines:\n",
    "            try:\n",
    "                details = line.split(\"&&\")\n",
    "                name = f\"{details[0]}-{details[2]}-{details[3]}\"\n",
    "            \n",
    "                plan = details[-1]\n",
    "                trace = read_plan(plan)\n",
    "                po_trace = trace.to_partial_ordered_trace(0.3)\n",
    "\n",
    "                domain_name = details[0]\n",
    "            \n",
    "                exe_l, exe_gt = test_cross_exe(domain_name, po_trace, trace)\n",
    "            except Exception as e:\n",
    "                print(f\"Error processing task {name}: {e}\")\n",
    "                exe_l, exe_gt = 0, 0\n",
    "            print(f\"Executability for {name}: {exe_l}, {exe_gt}\")\n",
    "            out.write(f\"{name},{exe_l}, {exe_gt}\\n\")\n",
    "            out.flush()\n",
    "\n",
    "\n",
    "        "
   ]
  }
 ],
 "metadata": {
  "kernelspec": {
   "display_name": "base",
   "language": "python",
   "name": "python3"
  },
  "language_info": {
   "codemirror_mode": {
    "name": "ipython",
    "version": 3
   },
   "file_extension": ".py",
   "mimetype": "text/x-python",
   "name": "python",
   "nbconvert_exporter": "python",
   "pygments_lexer": "ipython3",
   "version": "3.12.2"
  }
 },
 "nbformat": 4,
 "nbformat_minor": 5
}
