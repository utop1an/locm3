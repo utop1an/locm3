{
 "cells": [
  {
   "cell_type": "code",
   "execution_count": 7,
   "id": "0aa7c017",
   "metadata": {},
   "outputs": [],
   "source": [
    "import sys\n",
    "import os\n",
    "sys.path.append(os.path.abspath(os.path.join(os.getcwd(), '..')))\n",
    "from extract import LOCM2\n",
    "from utils import read_plan\n",
    "from evaluator import ExecutabilityEvaluator"
   ]
  },
  {
   "cell_type": "code",
   "execution_count": null,
   "id": "a932fa85",
   "metadata": {},
   "outputs": [],
   "source": [
    "def test_exe(domain_name, trace, test_trace=None):\n",
    "    debug = {\n",
    "        # 'get_transition_sets': True,\n",
    "        # 'extract_holes': True,\n",
    "        # 'find_holes': True,\n",
    "    }\n",
    "    try:\n",
    "        locm2 = LOCM2(state_param=True, viz=False, debug=debug)\n",
    "        model = locm2.extract_model([trace])\n",
    "        \n",
    "        \n",
    "        pddl_domain = model.to_pddl_domain(\"test_bw\")\n",
    "        action_trace = [step.action for step in trace]\n",
    "\n",
    "        evaluator = ExecutabilityEvaluator(pddl_domain, 'overall', debug=True)\n",
    "        if test_trace is not None:\n",
    "            exe = evaluator.get_overall_executability('l', test_trace, set(), set())\n",
    "        else:\n",
    "            exe = evaluator.get_overall_executability('l', action_trace, set(), set())\n",
    "        if exe < 1:\n",
    "            print(f\"Warning! domain: {domain_name} - executability: {exe}\")\n",
    "        return exe\n",
    "    except Exception as e:\n",
    "        print(f\"Error processing domain {domain_name}: {e}\")\n",
    "        return 0"
   ]
  },
  {
   "cell_type": "code",
   "execution_count": 9,
   "id": "3e6e58a3",
   "metadata": {},
   "outputs": [],
   "source": [
    "def test_cross_exe(domain_name, po_trace, to_trace):\n",
    "    debug = {}\n",
    "    try:\n",
    "        polocm2 = LOCM2(state_param=True, viz=False, debug=debug)\n",
    "        model = polocm2.extract_model([po_trace])\n",
    "        learned_domain = model.to_pddl_domain(domain_name)\n",
    "        gt_filename = os.path.join('../../data', 'goose-benchmarks', 'tasks', domain_name, 'domain.pddl')\n",
    "        evaluator = ExecutabilityEvaluator(learned_domain, 'cross',gt_filename, debug=True)\n",
    "        action_trace = [step.action for step in to_trace]\n",
    "        exe = evaluator.get_cross_executability(action_trace)\n",
    "        return exe\n",
    "    except Exception as e:\n",
    "        print(f\"Error processing domain {domain_name}: {e}\")\n",
    "        return 0"
   ]
  },
  {
   "cell_type": "code",
   "execution_count": 15,
   "id": "adb116e4",
   "metadata": {},
   "outputs": [
    {
     "name": "stdout",
     "output_type": "stream",
     "text": [
      "Error processing domain blocks: 'Step' object has no attribute 'name'\n"
     ]
    },
    {
     "data": {
      "text/plain": [
       "0"
      ]
     },
     "execution_count": 15,
     "metadata": {},
     "output_type": "execute_result"
    }
   ],
   "source": [
    "test_plan= \"(unstack b3?object b2?object),(putdown b3?object),(unstack b2?object b1?object),(putdown b2?object),(pickup b2?object),(stack b2?object b3?object),(pickup b1?object),(stack b1?object b2?object)\"\n",
    "\n",
    "test_trace = read_plan(test_plan)\n",
    "\n",
    "test_exe('blocks', test_trace)"
   ]
  },
  {
   "cell_type": "code",
   "execution_count": 14,
   "id": "247dd027",
   "metadata": {},
   "outputs": [
    {
     "name": "stdout",
     "output_type": "stream",
     "text": [
      "l_seqs: [[unstack <TypedObject b1: na> <TypedObject b3: na>, putdown <TypedObject b1: na>, pickup <TypedObject b3: na>, stack <TypedObject b3: na> <TypedObject b1: na>], [unstack <TypedObject b1: na> <TypedObject b3: na>, putdown <TypedObject b1: na>, pickup <TypedObject b3: na>, stack <TypedObject b3: na> <TypedObject b1: na>], [unstack <TypedObject b1: na> <TypedObject b3: na>, putdown <TypedObject b1: na>, pickup <TypedObject b3: na>, stack <TypedObject b3: na> <TypedObject b1: na>], [unstack <TypedObject b1: na> <TypedObject b3: na>, putdown <TypedObject b1: na>, pickup <TypedObject b3: na>, stack <TypedObject b3: na> <TypedObject b1: na>], [unstack <TypedObject b1: na> <TypedObject b3: na>, putdown <TypedObject b1: na>, pickup <TypedObject b3: na>, stack <TypedObject b3: na> <TypedObject b1: na>], [unstack <TypedObject b1: na> <TypedObject b3: na>, putdown <TypedObject b1: na>, pickup <TypedObject b3: na>, stack <TypedObject b3: na> <TypedObject b1: na>], [unstack <TypedObject b1: na> <TypedObject b3: na>, putdown <TypedObject b1: na>, pickup <TypedObject b3: na>, stack <TypedObject b3: na> <TypedObject b1: na>], [unstack <TypedObject b1: na> <TypedObject b3: na>, putdown <TypedObject b1: na>, pickup <TypedObject b3: na>, stack <TypedObject b3: na> <TypedObject b1: na>], [unstack <TypedObject b1: na> <TypedObject b3: na>, putdown <TypedObject b1: na>, pickup <TypedObject b3: na>, stack <TypedObject b3: na> <TypedObject b1: na>], [unstack <TypedObject b1: na> <TypedObject b3: na>, putdown <TypedObject b1: na>, pickup <TypedObject b3: na>, stack <TypedObject b3: na> <TypedObject b1: na>]]\n",
      "gt_seqs: [[unstack <TypedObject b1: na> <TypedObject b1: na>, putdown <TypedObject b1: na>, pickup <TypedObject b1: na>, putdown <TypedObject b1: na>, pickup <TypedObject b1: na>, putdown <TypedObject b1: na>, pickup <TypedObject b1: na>, putdown <TypedObject b1: na>], [unstack <TypedObject b1: na> <TypedObject b1: na>, stack <TypedObject b1: na> <TypedObject b1: na>, unstack <TypedObject b1: na> <TypedObject b2: na>, stack <TypedObject b1: na> <TypedObject b2: na>, unstack <TypedObject b1: na> <TypedObject b2: na>, putdown <TypedObject b1: na>, unstack <TypedObject b1: na> <TypedObject b1: na>, putdown <TypedObject b1: na>], [unstack <TypedObject b1: na> <TypedObject b1: na>, stack <TypedObject b1: na> <TypedObject b1: na>, unstack <TypedObject b1: na> <TypedObject b1: na>, stack <TypedObject b1: na> <TypedObject b1: na>, unstack <TypedObject b1: na> <TypedObject b1: na>, stack <TypedObject b1: na> <TypedObject b1: na>, unstack <TypedObject b1: na> <TypedObject b2: na>, putdown <TypedObject b1: na>], [unstack <TypedObject b1: na> <TypedObject b1: na>, putdown <TypedObject b1: na>, pickup <TypedObject b1: na>, putdown <TypedObject b1: na>, unstack <TypedObject b1: na> <TypedObject b3: na>, stack <TypedObject b1: na> <TypedObject b3: na>, pickup <TypedObject b1: na>, putdown <TypedObject b1: na>], [unstack <TypedObject b1: na> <TypedObject b3: na>, stack <TypedObject b1: na> <TypedObject b3: na>, unstack <TypedObject b1: na> <TypedObject b3: na>, putdown <TypedObject b1: na>, pickup <TypedObject b1: na>, putdown <TypedObject b1: na>, pickup <TypedObject b3: na>, putdown <TypedObject b3: na>], [unstack <TypedObject b1: na> <TypedObject b3: na>, putdown <TypedObject b1: na>, unstack <TypedObject b3: na> <TypedObject b3: na>, putdown <TypedObject b3: na>, unstack <TypedObject b1: na> <TypedObject b1: na>, putdown <TypedObject b1: na>, pickup <TypedObject b3: na>, putdown <TypedObject b3: na>], [unstack <TypedObject b1: na> <TypedObject b3: na>, putdown <TypedObject b1: na>, unstack <TypedObject b1: na> <TypedObject b1: na>, stack <TypedObject b1: na> <TypedObject b3: na>, unstack <TypedObject b1: na> <TypedObject b3: na>, stack <TypedObject b1: na> <TypedObject b3: na>, unstack <TypedObject b1: na> <TypedObject b2: na>, putdown <TypedObject b1: na>], [unstack <TypedObject b1: na> <TypedObject b3: na>, stack <TypedObject b1: na> <TypedObject b3: na>, unstack <TypedObject b1: na> <TypedObject b2: na>, stack <TypedObject b1: na> <TypedObject b2: na>, unstack <TypedObject b1: na> <TypedObject b1: na>, putdown <TypedObject b1: na>, unstack <TypedObject b1: na> <TypedObject b3: na>, stack <TypedObject b1: na> <TypedObject b3: na>], [unstack <TypedObject b1: na> <TypedObject b1: na>, stack <TypedObject b1: na> <TypedObject b1: na>, unstack <TypedObject b1: na> <TypedObject b2: na>, putdown <TypedObject b1: na>, unstack <TypedObject b1: na> <TypedObject b1: na>, stack <TypedObject b1: na> <TypedObject b1: na>, unstack <TypedObject b1: na> <TypedObject b3: na>, putdown <TypedObject b1: na>], [unstack <TypedObject b1: na> <TypedObject b2: na>, putdown <TypedObject b1: na>, unstack <TypedObject b1: na> <TypedObject b3: na>, stack <TypedObject b1: na> <TypedObject b2: na>, pickup <TypedObject b3: na>, stack <TypedObject b3: na> <TypedObject b1: na>, unstack <TypedObject b3: na> <TypedObject b1: na>, putdown <TypedObject b3: na>]]\n",
      "action <PropositionalAction '(unstack zero b1 b1)' at 0x747e3c51dac0> not executable\n",
      "preconditions not satisfied:  {<Atom s1f1_state4(b1)>, <Atom s1f2_state3(b1)>}\n",
      "action <PropositionalAction '(putdown zero b1)' at 0x747e3c52c230> not executable\n",
      "preconditions not satisfied:  {<Atom s1f0_state3(b1)>, <Atom s1f2_state2(b1)>, <Atom s0f0_state2(zero)>}\n",
      "action <PropositionalAction '(pickup zero b1)' at 0x747e3c51f770> not executable\n",
      "preconditions not satisfied:  {<Atom s1f1_state0(b1)>}\n",
      "action <PropositionalAction '(putdown zero b1)' at 0x747e3c52cad0> not executable\n",
      "preconditions not satisfied:  {<Atom s1f0_state3(b1)>, <Atom s1f2_state2(b1)>, <Atom s0f0_state2(zero)>}\n",
      "action <PropositionalAction '(pickup zero b1)' at 0x747e3c51f770> not executable\n",
      "preconditions not satisfied:  {<Atom s1f1_state0(b1)>}\n",
      "action <PropositionalAction '(putdown zero b1)' at 0x747e3c52e000> not executable\n",
      "preconditions not satisfied:  {<Atom s1f0_state3(b1)>, <Atom s1f2_state2(b1)>, <Atom s0f0_state2(zero)>}\n",
      "action <PropositionalAction '(unstack zero b1 b1)' at 0x747e3c51f770> not executable\n",
      "preconditions not satisfied:  {<Atom s1f1_state4(b1)>, <Atom s1f2_state3(b1)>}\n",
      "action <PropositionalAction '(stack zero b1 b1)' at 0x747e3c52cd70> not executable\n",
      "preconditions not satisfied:  {<Atom s1f1_state3(b1)>, <Atom s1f2_state1(b1)>, <Atom s0f0_state1(zero)>}\n",
      "action <PropositionalAction '(unstack zero b1 b2)' at 0x747e3c51f770> not executable\n",
      "preconditions not satisfied:  {<Atom s1f0_state2(b1)>, <Atom s1f1_state4(b2)>, <Atom s1f2_state3(b2)>}\n",
      "action <PropositionalAction '(stack zero b1 b2)' at 0x747e3c52ec90> not executable\n",
      "preconditions not satisfied:  {<Atom s1f1_state3(b1)>, <Atom s1f2_state1(b1)>, <Atom s1f1_state1(b2)>, <Atom s0f0_state1(zero)>}\n",
      "action <PropositionalAction '(unstack zero b1 b2)' at 0x747e3c51dac0> not executable\n",
      "preconditions not satisfied:  {<Atom s1f0_state2(b1)>, <Atom s1f1_state4(b2)>, <Atom s1f2_state3(b2)>}\n",
      "action <PropositionalAction '(unstack zero b1 b1)' at 0x747e3c51f770> not executable\n",
      "preconditions not satisfied:  {<Atom s1f0_state2(b1)>, <Atom s1f1_state4(b1)>, <Atom s1f2_state3(b1)>}\n",
      "action <PropositionalAction '(unstack zero b1 b1)' at 0x747e3c51dac0> not executable\n",
      "preconditions not satisfied:  {<Atom s1f1_state4(b1)>, <Atom s1f2_state3(b1)>}\n",
      "action <PropositionalAction '(stack zero b1 b1)' at 0x747e3c52cb30> not executable\n",
      "preconditions not satisfied:  {<Atom s1f1_state3(b1)>, <Atom s1f2_state1(b1)>, <Atom s0f0_state1(zero)>}\n",
      "action <PropositionalAction '(unstack zero b1 b1)' at 0x747e3c51dac0> not executable\n",
      "preconditions not satisfied:  {<Atom s1f0_state2(b1)>, <Atom s1f1_state4(b1)>, <Atom s1f2_state3(b1)>}\n",
      "action <PropositionalAction '(stack zero b1 b1)' at 0x747e3c52c5f0> not executable\n",
      "preconditions not satisfied:  {<Atom s1f1_state3(b1)>, <Atom s1f2_state1(b1)>, <Atom s0f0_state1(zero)>}\n",
      "action <PropositionalAction '(unstack zero b1 b1)' at 0x747e3c51dac0> not executable\n",
      "preconditions not satisfied:  {<Atom s1f0_state2(b1)>, <Atom s1f1_state4(b1)>, <Atom s1f2_state3(b1)>}\n",
      "action <PropositionalAction '(stack zero b1 b1)' at 0x747e3c52dfa0> not executable\n",
      "preconditions not satisfied:  {<Atom s1f1_state3(b1)>, <Atom s1f2_state1(b1)>, <Atom s0f0_state1(zero)>}\n",
      "action <PropositionalAction '(unstack zero b1 b2)' at 0x747e3c51dac0> not executable\n",
      "preconditions not satisfied:  {<Atom s1f0_state2(b1)>, <Atom s1f1_state4(b2)>, <Atom s1f2_state3(b2)>}\n",
      "action <PropositionalAction '(unstack zero b1 b1)' at 0x747e3c51f770> not executable\n",
      "preconditions not satisfied:  {<Atom s1f1_state4(b1)>, <Atom s1f2_state3(b1)>}\n",
      "action <PropositionalAction '(putdown zero b1)' at 0x747e3c52ebd0> not executable\n",
      "preconditions not satisfied:  {<Atom s1f0_state3(b1)>, <Atom s1f2_state2(b1)>, <Atom s0f0_state2(zero)>}\n",
      "action <PropositionalAction '(unstack zero b1 b3)' at 0x747e3c51dac0> not executable\n",
      "preconditions not satisfied:  {<Atom s1f0_state2(b1)>}\n",
      "action <PropositionalAction '(stack zero b1 b3)' at 0x747e3c52dfa0> not executable\n",
      "preconditions not satisfied:  {<Atom s1f1_state1(b3)>}\n",
      "action <PropositionalAction '(pickup zero b1)' at 0x747e3c51f770> not executable\n",
      "preconditions not satisfied:  {<Atom s1f1_state0(b1)>}\n",
      "action <PropositionalAction '(stack zero b1 b3)' at 0x747e3c52f080> not executable\n",
      "preconditions not satisfied:  {<Atom s1f1_state3(b1)>, <Atom s1f2_state1(b1)>, <Atom s1f1_state1(b3)>, <Atom s0f0_state1(zero)>}\n",
      "action <PropositionalAction '(unstack zero b1 b3)' at 0x747e3c51f770> not executable\n",
      "preconditions not satisfied:  {<Atom s1f2_state3(b3)>, <Atom s1f0_state2(b1)>, <Atom s1f1_state4(b3)>}\n",
      "action <PropositionalAction '(pickup zero b1)' at 0x747e3c51dac0> not executable\n",
      "preconditions not satisfied:  {<Atom s1f1_state0(b1)>}\n",
      "action <PropositionalAction '(putdown zero b1)' at 0x747e3c52ebd0> not executable\n",
      "preconditions not satisfied:  {<Atom s1f0_state3(b1)>, <Atom s1f2_state2(b1)>, <Atom s0f0_state2(zero)>}\n",
      "action <PropositionalAction '(putdown zero b3)' at 0x747e3c52eae0> not executable\n",
      "preconditions not satisfied:  {<Atom s1f0_state3(b3)>, <Atom s0f0_state2(zero)>, <Atom s1f2_state2(b3)>}\n",
      "action <PropositionalAction '(unstack zero b3 b3)' at 0x747e3c51f770> not executable\n",
      "preconditions not satisfied:  {<Atom s1f2_state3(b3)>, <Atom s1f0_state2(b3)>, <Atom s1f1_state4(b3)>}\n",
      "action <PropositionalAction '(unstack zero b1 b1)' at 0x747e3c51dac0> not executable\n",
      "preconditions not satisfied:  {<Atom s1f0_state2(b1)>, <Atom s1f1_state4(b1)>, <Atom s1f2_state3(b1)>}\n",
      "action <PropositionalAction '(putdown zero b3)' at 0x747e3c52f080> not executable\n",
      "preconditions not satisfied:  {<Atom s1f0_state3(b3)>, <Atom s0f0_state2(zero)>, <Atom s1f2_state2(b3)>}\n",
      "action <PropositionalAction '(unstack zero b1 b1)' at 0x747e3c51dac0> not executable\n",
      "preconditions not satisfied:  {<Atom s1f0_state2(b1)>, <Atom s1f1_state4(b1)>, <Atom s1f2_state3(b1)>}\n",
      "action <PropositionalAction '(stack zero b1 b3)' at 0x747e3c52ec90> not executable\n",
      "preconditions not satisfied:  {<Atom s1f1_state3(b1)>, <Atom s1f2_state1(b1)>, <Atom s1f1_state1(b3)>, <Atom s0f0_state1(zero)>}\n",
      "action <PropositionalAction '(unstack zero b1 b3)' at 0x747e3c51f770> not executable\n",
      "preconditions not satisfied:  {<Atom s1f2_state3(b3)>, <Atom s1f0_state2(b1)>, <Atom s1f1_state4(b3)>}\n",
      "action <PropositionalAction '(stack zero b1 b3)' at 0x747e3c52f080> not executable\n",
      "preconditions not satisfied:  {<Atom s1f1_state3(b1)>, <Atom s1f2_state1(b1)>, <Atom s1f1_state1(b3)>, <Atom s0f0_state1(zero)>}\n",
      "action <PropositionalAction '(unstack zero b1 b2)' at 0x747e3c51dac0> not executable\n",
      "preconditions not satisfied:  {<Atom s1f0_state2(b1)>, <Atom s1f1_state4(b2)>, <Atom s1f2_state3(b2)>}\n",
      "action <PropositionalAction '(stack zero b1 b3)' at 0x747e3c52c7a0> not executable\n",
      "preconditions not satisfied:  {<Atom s1f1_state3(b1)>, <Atom s1f2_state1(b1)>, <Atom s1f1_state1(b3)>, <Atom s0f0_state1(zero)>}\n",
      "action <PropositionalAction '(unstack zero b1 b2)' at 0x747e3c51dac0> not executable\n",
      "preconditions not satisfied:  {<Atom s1f0_state2(b1)>, <Atom s1f1_state4(b2)>, <Atom s1f2_state3(b2)>}\n",
      "action <PropositionalAction '(stack zero b1 b2)' at 0x747e3c52ee40> not executable\n",
      "preconditions not satisfied:  {<Atom s1f1_state3(b1)>, <Atom s1f2_state1(b1)>, <Atom s1f1_state1(b2)>, <Atom s0f0_state1(zero)>}\n",
      "action <PropositionalAction '(unstack zero b1 b1)' at 0x747e3c51f770> not executable\n",
      "preconditions not satisfied:  {<Atom s1f0_state2(b1)>, <Atom s1f1_state4(b1)>, <Atom s1f2_state3(b1)>}\n",
      "action <PropositionalAction '(unstack zero b1 b3)' at 0x747e3c51dac0> not executable\n",
      "preconditions not satisfied:  {<Atom s1f2_state3(b3)>, <Atom s1f0_state2(b1)>, <Atom s1f1_state4(b3)>}\n",
      "action <PropositionalAction '(stack zero b1 b3)' at 0x747e3c52dcd0> not executable\n",
      "preconditions not satisfied:  {<Atom s1f1_state3(b1)>, <Atom s1f2_state1(b1)>, <Atom s1f1_state1(b3)>, <Atom s0f0_state1(zero)>}\n",
      "action <PropositionalAction '(unstack zero b1 b1)' at 0x747e3c51f770> not executable\n",
      "preconditions not satisfied:  {<Atom s1f1_state4(b1)>, <Atom s1f2_state3(b1)>}\n",
      "action <PropositionalAction '(stack zero b1 b1)' at 0x747e3c52dc10> not executable\n",
      "preconditions not satisfied:  {<Atom s1f1_state3(b1)>, <Atom s1f2_state1(b1)>, <Atom s0f0_state1(zero)>}\n",
      "action <PropositionalAction '(unstack zero b1 b2)' at 0x747e3c51f770> not executable\n",
      "preconditions not satisfied:  {<Atom s1f0_state2(b1)>, <Atom s1f1_state4(b2)>, <Atom s1f2_state3(b2)>}\n",
      "action <PropositionalAction '(unstack zero b1 b1)' at 0x747e3c51dac0> not executable\n",
      "preconditions not satisfied:  {<Atom s1f0_state2(b1)>, <Atom s1f1_state4(b1)>, <Atom s1f2_state3(b1)>}\n",
      "action <PropositionalAction '(stack zero b1 b1)' at 0x747e3c52f080> not executable\n",
      "preconditions not satisfied:  {<Atom s1f1_state3(b1)>, <Atom s1f2_state1(b1)>, <Atom s0f0_state1(zero)>}\n",
      "action <PropositionalAction '(unstack zero b1 b3)' at 0x747e3c51dac0> not executable\n",
      "preconditions not satisfied:  {<Atom s1f0_state2(b1)>}\n",
      "action <PropositionalAction '(unstack zero b1 b2)' at 0x747e3c51f770> not executable\n",
      "preconditions not satisfied:  {<Atom s1f1_state4(b2)>, <Atom s1f2_state3(b2)>}\n",
      "action <PropositionalAction '(unstack zero b1 b3)' at 0x747e3c51dac0> not executable\n",
      "preconditions not satisfied:  {<Atom s1f0_state2(b1)>}\n",
      "action <PropositionalAction '(stack zero b1 b2)' at 0x747e3c52eea0> not executable\n",
      "preconditions not satisfied:  {<Atom s1f1_state3(b1)>, <Atom s1f2_state1(b1)>, <Atom s1f1_state1(b2)>, <Atom s0f0_state1(zero)>}\n",
      "action <PropositionalAction '(unstack zero b3 b1)' at 0x747e3c51dac0> not executable\n",
      "preconditions not satisfied:  {<Atom s1f1_state4(b1)>, <Atom s1f0_state2(b3)>, <Atom s1f2_state3(b1)>}\n"
     ]
    },
    {
     "data": {
      "text/plain": [
       "(0.3375, 1.0)"
      ]
     },
     "execution_count": 14,
     "metadata": {},
     "output_type": "execute_result"
    }
   ],
   "source": [
    "\n",
    "\n",
    "# test_exe(\"plan1\", trace)\n",
    "test_cross_exe(\"blocksworld\", test_trace, test_trace)\n",
    "# plan2 = \"(pickup b2?object),(stack b2?object b1?object),(pickup b3?object),(stack b3?object b2?object)\"\n",
    "# test_exe(\"test_bw\", read_plan(plan2))"
   ]
  },
  {
   "cell_type": "code",
   "execution_count": 11,
   "id": "656c4251",
   "metadata": {},
   "outputs": [],
   "source": [
    "# with open(\"../../data/plain_traces/plain_traces.txt\", \"r\") as f:\n",
    "#     lines = f.readlines()\n",
    "#     for line in lines:\n",
    "#         details = line.split(\"&&\")\n",
    "#         name = f\"{details[0]}-{details[2]}-{details[3]}\"\n",
    "      \n",
    "#         plan = details[-1]\n",
    "#         trace = read_plan(plan)\n",
    "#         test_exe(name, trace)"
   ]
  },
  {
   "cell_type": "code",
   "execution_count": 12,
   "id": "b9c0a9d0",
   "metadata": {},
   "outputs": [],
   "source": [
    "# with open(\"../../data/plain_traces/plain_traces.txt\", \"r\") as f:\n",
    "#     with open(\"res.csv\", \"w\") as out:\n",
    "#         lines = f.readlines()\n",
    "#         for line in lines:\n",
    "#             try:\n",
    "#                 details = line.split(\"&&\")\n",
    "#                 name = f\"{details[0]}-{details[2]}-{details[3]}\"\n",
    "            \n",
    "#                 plan = details[-1]\n",
    "#                 trace = read_plan(plan)\n",
    "           \n",
    "\n",
    "#                 domain_name = details[0]\n",
    "            \n",
    "#                 exe_l, exe_gt = test_cross_exe(domain_name, trace, trace)\n",
    "#             except Exception as e:\n",
    "#                 print(f\"Error processing task {name}: {e}\")\n",
    "#                 exe_l, exe_gt = 0, 0\n",
    "#             print(f\"Executability for {name}: {exe_l}, {exe_gt}\")\n",
    "#             out.write(f\"{name},{exe_l}, {exe_gt}\\n\")\n",
    "#             out.flush()"
   ]
  },
  {
   "cell_type": "code",
   "execution_count": null,
   "id": "2306529e",
   "metadata": {},
   "outputs": [],
   "source": []
  },
  {
   "cell_type": "code",
   "execution_count": null,
   "id": "bdc5da96",
   "metadata": {},
   "outputs": [],
   "source": []
  }
 ],
 "metadata": {
  "kernelspec": {
   "display_name": "base",
   "language": "python",
   "name": "python3"
  },
  "language_info": {
   "codemirror_mode": {
    "name": "ipython",
    "version": 3
   },
   "file_extension": ".py",
   "mimetype": "text/x-python",
   "name": "python",
   "nbconvert_exporter": "python",
   "pygments_lexer": "ipython3",
   "version": "3.12.2"
  }
 },
 "nbformat": 4,
 "nbformat_minor": 5
}
