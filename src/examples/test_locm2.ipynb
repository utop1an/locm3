{
 "cells": [
  {
   "cell_type": "code",
   "execution_count": 1,
   "id": "0aa7c017",
   "metadata": {},
   "outputs": [
    {
     "ename": "ImportError",
     "evalue": "DLL load failed while importing _multiarray_umath: 找不到指定的模块。",
     "output_type": "error",
     "traceback": [
      "\u001b[1;31m---------------------------------------------------------------------------\u001b[0m",
      "\u001b[1;31mImportError\u001b[0m                               Traceback (most recent call last)",
      "\u001b[1;31mImportError\u001b[0m: DLL load failed while importing _multiarray_umath: 找不到指定的模块。"
     ]
    },
    {
     "ename": "ImportError",
     "evalue": "DLL load failed while importing _multiarray_umath: 找不到指定的模块。",
     "output_type": "error",
     "traceback": [
      "\u001b[1;31m---------------------------------------------------------------------------\u001b[0m",
      "\u001b[1;31mImportError\u001b[0m                               Traceback (most recent call last)",
      "\u001b[1;31mImportError\u001b[0m: DLL load failed while importing _multiarray_umath: 找不到指定的模块。"
     ]
    }
   ],
   "source": [
    "import sys\n",
    "import os\n",
    "sys.path.append(os.path.abspath(os.path.join(os.getcwd(), '..')))\n",
    "from extract import LOCM2\n",
    "from utils import read_plan\n",
    "from evaluator import ExecutabilityEvaluator"
   ]
  },
  {
   "cell_type": "code",
   "execution_count": 2,
   "id": "a932fa85",
   "metadata": {},
   "outputs": [],
   "source": [
    "def test_exe(domain_name, trace, test_trace=None):\n",
    "    debug = {\n",
    "        # 'get_transition_sets': True,\n",
    "        # 'extract_holes': True,\n",
    "        # 'find_holes': True,\n",
    "    }\n",
    "    try:\n",
    "        locm2 = LOCM2(state_param=True, viz=False, debug=debug)\n",
    "        model = locm2.extract_model([trace])\n",
    "        \n",
    "        actions = model.actions\n",
    "        \n",
    "        pddl_domain = model.to_pddl_domain(\"test_bw\")\n",
    "        evaluator = ExecutabilityEvaluator(pddl_domain, 'overall', debug=True)\n",
    "        if test_trace is not None:\n",
    "            exe = evaluator.get_overall_executability('l', test_trace, set(), set())\n",
    "        else:\n",
    "            exe = evaluator.get_overall_executability('l', trace, set(), set())\n",
    "        if exe < 1:\n",
    "            print(f\"Warning! domain: {domain_name} - executability: {exe}\")\n",
    "        return exe\n",
    "    except Exception as e:\n",
    "        print(f\"Error processing domain {domain_name}: {e}\")\n",
    "        return 0"
   ]
  },
  {
   "cell_type": "code",
   "execution_count": 3,
   "id": "247dd027",
   "metadata": {},
   "outputs": [
    {
     "data": {
      "text/plain": [
       "1.0"
      ]
     },
     "execution_count": 3,
     "metadata": {},
     "output_type": "execute_result"
    }
   ],
   "source": [
    "plan = \"(sample_rock rover1?rover rover1store?store waypoint1?waypoint),(drop rover1?rover rover1store?store),(navigate rover1?rover waypoint1?waypoint waypoint4?waypoint),(communicate_rock_data rover1?rover general?lander waypoint1?waypoint waypoint4?waypoint waypoint1?waypoint),(navigate rover1?rover waypoint4?waypoint waypoint2?waypoint),(sample_rock rover1?rover rover1store?store waypoint2?waypoint),(drop rover1?rover rover1store?store),(communicate_rock_data rover1?rover general?lander waypoint2?waypoint waypoint2?waypoint waypoint1?waypoint),(calibrate rover1?rover camera1?camera objective1?objective waypoint2?waypoint),(take_image rover1?rover waypoint2?waypoint objective1?objective camera1?camera low_res?mode),(communicate_image_data rover1?rover general?lander objective1?objective low_res?mode waypoint2?waypoint waypoint1?waypoint),(calibrate rover1?rover camera1?camera objective1?objective waypoint2?waypoint),(take_image rover1?rover waypoint2?waypoint objective1?objective camera1?camera colour?mode),(communicate_image_data rover1?rover general?lander objective1?objective colour?mode waypoint2?waypoint waypoint1?waypoint)\"\n",
    "test_plan= \"(unstack b3?object b2?object),(putdown b3?object),(unstack b2?object b1?object),(putdown b2?object),(pickup b2?object),(stack b2?object b3?object),(pickup b1?object),(stack b1?object b2?object)\"\n",
    "\n",
    "trace = read_plan(plan)\n",
    "test_trace = read_plan(test_plan)\n",
    "\n",
    "# test_exe(\"plan1\", trace)\n",
    "test_exe(\"plan2\", test_trace)\n",
    "# plan2 = \"(pickup b2?object),(stack b2?object b1?object),(pickup b3?object),(stack b3?object b2?object)\"\n",
    "# test_exe(\"test_bw\", read_plan(plan2))"
   ]
  },
  {
   "cell_type": "code",
   "execution_count": null,
   "id": "656c4251",
   "metadata": {},
   "outputs": [
    {
     "name": "stdout",
     "output_type": "stream",
     "text": [
      "Error processing domain rovers-p02.pddl-easy: LOCMv1 cannot handle duplicate objects in the same action.\n",
      "Error processing domain rovers-p03.pddl-easy: LOCMv1 cannot handle duplicate objects in the same action.\n",
      "Error processing domain rovers-p04.pddl-easy: LOCMv1 cannot handle duplicate objects in the same action.\n",
      "Error processing domain rovers-p06.pddl-easy: LOCMv1 cannot handle duplicate objects in the same action.\n",
      "Error processing domain rovers-p07.pddl-easy: LOCMv1 cannot handle duplicate objects in the same action.\n",
      "Error processing domain rovers-p08.pddl-easy: LOCMv1 cannot handle duplicate objects in the same action.\n",
      "Error processing domain rovers-p09.pddl-easy: LOCMv1 cannot handle duplicate objects in the same action.\n",
      "Error processing domain rovers-p10.pddl-easy: LOCMv1 cannot handle duplicate objects in the same action.\n",
      "Error processing domain rovers-p11.pddl-easy: LOCMv1 cannot handle duplicate objects in the same action.\n",
      "Error processing domain rovers-p13.pddl-easy: LOCMv1 cannot handle duplicate objects in the same action.\n",
      "Error processing domain rovers-p14.pddl-easy: LOCMv1 cannot handle duplicate objects in the same action.\n",
      "Error processing domain rovers-p15.pddl-easy: LOCMv1 cannot handle duplicate objects in the same action.\n",
      "Error processing domain rovers-p17.pddl-easy: LOCMv1 cannot handle duplicate objects in the same action.\n",
      "Error processing domain rovers-p18.pddl-easy: LOCMv1 cannot handle duplicate objects in the same action.\n",
      "Error processing domain rovers-p19.pddl-easy: LOCMv1 cannot handle duplicate objects in the same action.\n",
      "Error processing domain rovers-p21.pddl-easy: LOCMv1 cannot handle duplicate objects in the same action.\n",
      "Error processing domain rovers-p22.pddl-easy: LOCMv1 cannot handle duplicate objects in the same action.\n",
      "Error processing domain rovers-p23.pddl-easy: LOCMv1 cannot handle duplicate objects in the same action.\n",
      "Error processing domain rovers-p24.pddl-easy: LOCMv1 cannot handle duplicate objects in the same action.\n",
      "Error processing domain rovers-p26.pddl-easy: LOCMv1 cannot handle duplicate objects in the same action.\n",
      "Error processing domain rovers-p27.pddl-easy: LOCMv1 cannot handle duplicate objects in the same action.\n",
      "Error processing domain rovers-p28.pddl-easy: LOCMv1 cannot handle duplicate objects in the same action.\n",
      "Error processing domain rovers-p29.pddl-easy: LOCMv1 cannot handle duplicate objects in the same action.\n",
      "Error processing domain rovers-p30.pddl-easy: LOCMv1 cannot handle duplicate objects in the same action.\n",
      "Error processing domain rovers-p31.pddl-easy: LOCMv1 cannot handle duplicate objects in the same action.\n",
      "Error processing domain rovers-p32.pddl-easy: LOCMv1 cannot handle duplicate objects in the same action.\n",
      "Error processing domain rovers-p33.pddl-easy: LOCMv1 cannot handle duplicate objects in the same action.\n",
      "Error processing domain rovers-p35.pddl-easy: LOCMv1 cannot handle duplicate objects in the same action.\n",
      "Error processing domain rovers-p36.pddl-easy: LOCMv1 cannot handle duplicate objects in the same action.\n",
      "Error processing domain rovers-p37.pddl-easy: LOCMv1 cannot handle duplicate objects in the same action.\n",
      "Error processing domain rovers-p39.pddl-easy: LOCMv1 cannot handle duplicate objects in the same action.\n",
      "Error processing domain rovers-p40.pddl-easy: LOCMv1 cannot handle duplicate objects in the same action.\n",
      "Error processing domain rovers-p42.pddl-easy: LOCMv1 cannot handle duplicate objects in the same action.\n",
      "Error processing domain rovers-p43.pddl-easy: LOCMv1 cannot handle duplicate objects in the same action.\n",
      "Error processing domain rovers-p44.pddl-easy: LOCMv1 cannot handle duplicate objects in the same action.\n",
      "Error processing domain rovers-p45.pddl-easy: LOCMv1 cannot handle duplicate objects in the same action.\n",
      "Error processing domain rovers-p46.pddl-easy: LOCMv1 cannot handle duplicate objects in the same action.\n",
      "Error processing domain rovers-p47.pddl-easy: LOCMv1 cannot handle duplicate objects in the same action.\n",
      "Error processing domain rovers-p48.pddl-easy: LOCMv1 cannot handle duplicate objects in the same action.\n",
      "Error processing domain rovers-p49.pddl-easy: LOCMv1 cannot handle duplicate objects in the same action.\n",
      "Error processing domain rovers-p50.pddl-easy: LOCMv1 cannot handle duplicate objects in the same action.\n",
      "Error processing domain rovers-p51.pddl-easy: LOCMv1 cannot handle duplicate objects in the same action.\n",
      "Error processing domain rovers-p52.pddl-easy: LOCMv1 cannot handle duplicate objects in the same action.\n",
      "Error processing domain rovers-p53.pddl-easy: LOCMv1 cannot handle duplicate objects in the same action.\n",
      "Error processing domain rovers-p54.pddl-easy: LOCMv1 cannot handle duplicate objects in the same action.\n",
      "Error processing domain rovers-p55.pddl-easy: LOCMv1 cannot handle duplicate objects in the same action.\n",
      "Error processing domain rovers-p56.pddl-easy: LOCMv1 cannot handle duplicate objects in the same action.\n",
      "Error processing domain rovers-p57.pddl-easy: LOCMv1 cannot handle duplicate objects in the same action.\n",
      "Error processing domain rovers-p58.pddl-easy: LOCMv1 cannot handle duplicate objects in the same action.\n",
      "Error processing domain rovers-p59.pddl-easy: LOCMv1 cannot handle duplicate objects in the same action.\n",
      "Error processing domain rovers-p60.pddl-easy: LOCMv1 cannot handle duplicate objects in the same action.\n",
      "Error processing domain rovers-p61.pddl-easy: LOCMv1 cannot handle duplicate objects in the same action.\n",
      "Error processing domain rovers-p62.pddl-easy: LOCMv1 cannot handle duplicate objects in the same action.\n",
      "Error processing domain rovers-p63.pddl-easy: LOCMv1 cannot handle duplicate objects in the same action.\n",
      "Error processing domain rovers-p64.pddl-easy: LOCMv1 cannot handle duplicate objects in the same action.\n",
      "Error processing domain rovers-p66.pddl-easy: LOCMv1 cannot handle duplicate objects in the same action.\n",
      "Error processing domain rovers-p67.pddl-easy: LOCMv1 cannot handle duplicate objects in the same action.\n",
      "Error processing domain rovers-p68.pddl-easy: LOCMv1 cannot handle duplicate objects in the same action.\n",
      "Error processing domain rovers-p69.pddl-easy: LOCMv1 cannot handle duplicate objects in the same action.\n",
      "Error processing domain rovers-p70.pddl-easy: LOCMv1 cannot handle duplicate objects in the same action.\n",
      "Error processing domain rovers-p71.pddl-easy: LOCMv1 cannot handle duplicate objects in the same action.\n",
      "Error processing domain rovers-p72.pddl-easy: LOCMv1 cannot handle duplicate objects in the same action.\n",
      "Error processing domain rovers-p73.pddl-easy: LOCMv1 cannot handle duplicate objects in the same action.\n",
      "Error processing domain rovers-p74.pddl-easy: LOCMv1 cannot handle duplicate objects in the same action.\n",
      "Error processing domain rovers-p75.pddl-easy: LOCMv1 cannot handle duplicate objects in the same action.\n",
      "Error processing domain rovers-p76.pddl-easy: LOCMv1 cannot handle duplicate objects in the same action.\n",
      "Error processing domain rovers-p77.pddl-easy: LOCMv1 cannot handle duplicate objects in the same action.\n",
      "Error processing domain rovers-p78.pddl-easy: LOCMv1 cannot handle duplicate objects in the same action.\n",
      "Error processing domain rovers-p79.pddl-easy: LOCMv1 cannot handle duplicate objects in the same action.\n",
      "Error processing domain rovers-p80.pddl-easy: LOCMv1 cannot handle duplicate objects in the same action.\n",
      "Error processing domain rovers-p81.pddl-easy: LOCMv1 cannot handle duplicate objects in the same action.\n",
      "Error processing domain rovers-p84.pddl-easy: LOCMv1 cannot handle duplicate objects in the same action.\n",
      "Error processing domain rovers-p85.pddl-easy: LOCMv1 cannot handle duplicate objects in the same action.\n",
      "Error processing domain rovers-p86.pddl-easy: LOCMv1 cannot handle duplicate objects in the same action.\n",
      "Error processing domain rovers-p87.pddl-easy: LOCMv1 cannot handle duplicate objects in the same action.\n",
      "Error processing domain rovers-p88.pddl-easy: LOCMv1 cannot handle duplicate objects in the same action.\n",
      "Error processing domain rovers-p90.pddl-easy: LOCMv1 cannot handle duplicate objects in the same action.\n",
      "Error processing domain rovers-p91.pddl-easy: LOCMv1 cannot handle duplicate objects in the same action.\n",
      "Error processing domain rovers-p92.pddl-easy: LOCMv1 cannot handle duplicate objects in the same action.\n",
      "Error processing domain rovers-p94.pddl-easy: LOCMv1 cannot handle duplicate objects in the same action.\n",
      "Error processing domain rovers-p95.pddl-easy: LOCMv1 cannot handle duplicate objects in the same action.\n",
      "Error processing domain rovers-p96.pddl-easy: LOCMv1 cannot handle duplicate objects in the same action.\n",
      "Error processing domain rovers-p97.pddl-easy: LOCMv1 cannot handle duplicate objects in the same action.\n",
      "Error processing domain rovers-p98.pddl-easy: LOCMv1 cannot handle duplicate objects in the same action.\n",
      "Error processing domain rovers-p99.pddl-easy: LOCMv1 cannot handle duplicate objects in the same action.\n"
     ]
    }
   ],
   "source": [
    "with open(\"../../data/plain_traces/plain_traces.txt\", \"r\") as f:\n",
    "    lines = f.readlines()\n",
    "    for line in lines:\n",
    "        details = line.split(\"&&\")\n",
    "        name = f\"{details[0]}-{details[2]}-{details[3]}\"\n",
    "      \n",
    "        plan = details[-1]\n",
    "        trace = read_plan(plan)\n",
    "        test_exe(name, trace)"
   ]
  },
  {
   "cell_type": "code",
   "execution_count": null,
   "id": "b9c0a9d0",
   "metadata": {},
   "outputs": [],
   "source": []
  },
  {
   "cell_type": "code",
   "execution_count": null,
   "id": "2306529e",
   "metadata": {},
   "outputs": [],
   "source": []
  },
  {
   "cell_type": "code",
   "execution_count": null,
   "id": "bdc5da96",
   "metadata": {},
   "outputs": [],
   "source": []
  }
 ],
 "metadata": {
  "kernelspec": {
   "display_name": "base",
   "language": "python",
   "name": "python3"
  },
  "language_info": {
   "codemirror_mode": {
    "name": "ipython",
    "version": 3
   },
   "file_extension": ".py",
   "mimetype": "text/x-python",
   "name": "python",
   "nbconvert_exporter": "python",
   "pygments_lexer": "ipython3",
   "version": "3.12.2"
  }
 },
 "nbformat": 4,
 "nbformat_minor": 5
}
