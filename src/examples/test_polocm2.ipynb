{
 "cells": [
  {
   "cell_type": "code",
   "execution_count": 1,
   "id": "0aa7c017",
   "metadata": {},
   "outputs": [],
   "source": [
    "import sys\n",
    "import os\n",
    "sys.path.append(os.path.abspath(os.path.join(os.getcwd(), '..')))\n",
    "from extract import POLOCM2\n",
    "from utils import read_plan\n",
    "from evaluator import ExecutabilityEvaluator"
   ]
  },
  {
   "cell_type": "code",
   "execution_count": 2,
   "id": "a932fa85",
   "metadata": {},
   "outputs": [],
   "source": [
    "def test_exe(domain_name, trace, test_trace=None):\n",
    "    debug = {\n",
    "        # 'get_transition_sets': True,\n",
    "        # 'extract_holes': True,\n",
    "        # 'find_holes': True,\n",
    "    }\n",
    "    try:\n",
    "        polocm2 = POLOCM2(state_param=True, viz=False, debug=debug)\n",
    "        model, _, _ = polocm2.extract_model([trace])\n",
    "        \n",
    "        actions = model.actions\n",
    "        \n",
    "        pddl_domain = model.to_pddl_domain(\"test_bw\")\n",
    "        evaluator = ExecutabilityEvaluator(pddl_domain, 'overall', debug=True)\n",
    "        if test_trace is not None:\n",
    "            action_trace = [step.action for step in test_trace]\n",
    "            exe = evaluator.get_overall_executability('l', action_trace, set(), set())\n",
    "        else:\n",
    "            action_trace = [step.action for step in trace]\n",
    "            exe = evaluator.get_overall_executability('l', action_trace, set(), set())\n",
    "        if exe < 1:\n",
    "            print(f\"Warning! domain: {domain_name} - executability: {exe}\")\n",
    "        return exe\n",
    "    except Exception as e:\n",
    "        print(f\"Error processing domain {domain_name}: {e}\")\n",
    "        return 0"
   ]
  },
  {
   "cell_type": "code",
   "execution_count": 3,
   "id": "54776614",
   "metadata": {},
   "outputs": [],
   "source": [
    "def test_acceptance(domain_name,train_traces, test_traces):\n",
    "    debug = {}\n",
    "    try:\n",
    "        polocm2 = POLOCM2(state_param=True, viz=False, debug=debug)\n",
    "        model,_,_ = polocm2.extract_model(train_traces)\n",
    "        learned_domain = model.to_pddl_domain(domain_name)\n",
    "\n",
    "        evaluator = ExecutabilityEvaluator(learned_domain, debug=True)\n",
    "        res = []\n",
    "        for trace in test_traces:\n",
    "            valid_acceptance, _ = evaluator.get_acceptance_rate(trace, trace)\n",
    "            res.append(valid_acceptance)\n",
    "        if len(res) == 0:\n",
    "            return 0\n",
    "        return sum(res) / len(res)\n",
    "    except Exception as e:\n",
    "        print(f\"Error processing domain {domain_name}: {e}\")\n",
    "        return 0,1"
   ]
  },
  {
   "cell_type": "code",
   "execution_count": 4,
   "id": "247dd027",
   "metadata": {},
   "outputs": [
    {
     "name": "stdout",
     "output_type": "stream",
     "text": [
      "[          pickup.0  stack.0\n",
      "pickup.0         0        1\n",
      "stack.0          1        0,           stack.1  pickup.1  stack.2\n",
      "stack.1         0         0        1\n",
      "pickup.1        1         0        0\n",
      "stack.2         0         0        0]\n",
      "Error processing domain plan2: 'bool' object is not subscriptable\n"
     ]
    },
    {
     "data": {
      "text/plain": [
       "(0, 1)"
      ]
     },
     "execution_count": 4,
     "metadata": {},
     "output_type": "execute_result"
    }
   ],
   "source": [
    "test_plan = \"(pickup b2?object),(stack b2?object b1?object),(pickup b3?object),(stack b3?object b2?object)\"\n",
    "test_trace = read_plan(test_plan)\n",
    "po_trace = test_trace.to_partial_ordered_trace(0.3)\n",
    "\n",
    "test_plan2 = \"(pickup b2?object),(stack b2?object b1?object),(unstack b3?object b4?object),(putdown b3?object)\"\n",
    "test_trace2 = read_plan(test_plan)\n",
    "po_trace2 = test_trace.to_partial_ordered_trace(0.3)\n",
    "\n",
    "# test_exe(\"plan1\", trace)\n",
    "test_acceptance(\"plan2\", [po_trace, po_trace2], [test_trace])\n",
    "# plan2 = \"(pickup b2?object),(stack b2?object b1?object),(pickup b3?object),(stack b3?object b2?object)\"\n",
    "# test_exe(\"test_bw\", read_plan(plan2))"
   ]
  },
  {
   "cell_type": "code",
   "execution_count": null,
   "id": "c6994caf",
   "metadata": {},
   "outputs": [],
   "source": []
  },
  {
   "cell_type": "code",
   "execution_count": 5,
   "id": "656c4251",
   "metadata": {},
   "outputs": [],
   "source": [
    "# with open(\"../../data/plain_traces/plain_traces.txt\", \"r\") as f:\n",
    "#     lines = f.readlines()\n",
    "#     for line in lines:\n",
    "#         details = line.split(\"&&\")\n",
    "#         name = f\"{details[0]}-{details[2]}-{details[3]}\"\n",
    "      \n",
    "#         plan = details[-1]\n",
    "#         trace = read_plan(plan)\n",
    "#         po_trace = trace.to_partial_ordered_trace(0.3)\n",
    "#         test_exe(name, po_trace)"
   ]
  },
  {
   "cell_type": "code",
   "execution_count": null,
   "id": "b9c0a9d0",
   "metadata": {},
   "outputs": [],
   "source": []
  },
  {
   "cell_type": "code",
   "execution_count": null,
   "id": "2306529e",
   "metadata": {},
   "outputs": [],
   "source": []
  },
  {
   "cell_type": "code",
   "execution_count": null,
   "id": "bdc5da96",
   "metadata": {},
   "outputs": [],
   "source": []
  }
 ],
 "metadata": {
  "kernelspec": {
   "display_name": "llm",
   "language": "python",
   "name": "python3"
  },
  "language_info": {
   "codemirror_mode": {
    "name": "ipython",
    "version": 3
   },
   "file_extension": ".py",
   "mimetype": "text/x-python",
   "name": "python",
   "nbconvert_exporter": "python",
   "pygments_lexer": "ipython3",
   "version": "3.13.4"
  }
 },
 "nbformat": 4,
 "nbformat_minor": 5
}
